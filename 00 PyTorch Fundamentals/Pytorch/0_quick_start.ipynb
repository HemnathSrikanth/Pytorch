{
 "cells": [
  {
   "cell_type": "markdown",
   "id": "125cae58",
   "metadata": {},
   "source": [
    "# [Pytorch Official tutorial](https://docs.pytorch.org/tutorials/beginner/basics/intro.html)"
   ]
  },
  {
   "cell_type": "markdown",
   "id": "04e5059e",
   "metadata": {},
   "source": [
    "### Working with data"
   ]
  },
  {
   "cell_type": "code",
   "execution_count": 1,
   "id": "d576a50e",
   "metadata": {},
   "outputs": [],
   "source": [
    "import torch\n",
    "from torch import nn\n",
    "from torch.utils.data import DataLoader\n",
    "from torchvision import datasets\n",
    "from torchvision.transforms import ToTensor"
   ]
  },
  {
   "cell_type": "code",
   "execution_count": 2,
   "id": "6f65f2d8",
   "metadata": {},
   "outputs": [],
   "source": [
    "#Download training data from open datasets.\n",
    "training_data = datasets.FashionMNIST(\n",
    "    root=\"data\",\n",
    "    train=True,\n",
    "    download=True,\n",
    "    transform=ToTensor()\n",
    ")\n",
    "\n",
    "#Download test data from  open datasets.\n",
    "test_data = datasets.FashionMNIST(\n",
    "    root=\"data\",\n",
    "    train = False,\n",
    "    download = True,\n",
    "    transform=ToTensor()\n",
    ")"
   ]
  },
  {
   "cell_type": "code",
   "execution_count": 3,
   "id": "e300e5cf",
   "metadata": {},
   "outputs": [
    {
     "name": "stdout",
     "output_type": "stream",
     "text": [
      "Shape of X[N,C,H,W]: torch.Size([64, 1, 28, 28])\n",
      "Shape of y: torch.Size([64]) torch.int64\n"
     ]
    }
   ],
   "source": [
    "batch_size = 64\n",
    "\n",
    "#Create data loader.\n",
    "train_dataloader = DataLoader(training_data,batch_size=batch_size)\n",
    "test_dataloader = DataLoader(test_data,batch_size=batch_size)\n",
    "\n",
    "for X,y in test_dataloader:\n",
    "    print(f\"Shape of X[N,C,H,W]: {X.shape}\")\n",
    "    print(f\"Shape of y: {y.shape} {y.dtype}\")\n",
    "    break"
   ]
  },
  {
   "cell_type": "markdown",
   "id": "cf891456",
   "metadata": {},
   "source": [
    "### Creating Model"
   ]
  },
  {
   "cell_type": "code",
   "execution_count": 4,
   "id": "48bca855",
   "metadata": {},
   "outputs": [
    {
     "name": "stdout",
     "output_type": "stream",
     "text": [
      "Using cuda device\n",
      "NeuralNetwork(\n",
      "  (flatten): Flatten(start_dim=1, end_dim=-1)\n",
      "  (linear_relu_stack): Sequential(\n",
      "    (0): Linear(in_features=784, out_features=512, bias=True)\n",
      "    (1): ReLU()\n",
      "    (2): Linear(in_features=512, out_features=512, bias=True)\n",
      "    (3): ReLU()\n",
      "    (4): Linear(in_features=512, out_features=10, bias=True)\n",
      "  )\n",
      ")\n"
     ]
    }
   ],
   "source": [
    "device = torch.accelerator.current_accelerator().type if torch.accelerator.is_available() else 'cpu'\n",
    "print(f\"Using {device} device\")\n",
    "\n",
    "#Define model\n",
    "class NeuralNetwork(nn.Module):\n",
    "    def __init__(self):\n",
    "        super().__init__()\n",
    "        self.flatten = nn.Flatten()\n",
    "        self.linear_relu_stack = nn.Sequential(\n",
    "            nn.Linear(28*28,512),\n",
    "            nn.ReLU(),\n",
    "            nn.Linear(512,512),\n",
    "            nn.ReLU(),\n",
    "            nn.Linear(512,10))\n",
    "\n",
    "    def forward(self,x):\n",
    "        x = self.flatten(x)\n",
    "        logits = self.linear_relu_stack(x)\n",
    "        return logits\n",
    "\n",
    "model = NeuralNetwork().to(device)\n",
    "print(model)"
   ]
  },
  {
   "cell_type": "markdown",
   "id": "86053863",
   "metadata": {},
   "source": [
    "### Optimizing the model parameters.\n",
    "To train a model, we need a loss function and an optimizer."
   ]
  },
  {
   "cell_type": "code",
   "execution_count": 5,
   "id": "421e3e2b",
   "metadata": {},
   "outputs": [],
   "source": [
    "loss_fn = nn.CrossEntropyLoss()\n",
    "optimizer = torch.optim.SGD(model.parameters(),lr=1e-3)#SGD - Stochastic Gredient Descent "
   ]
  },
  {
   "cell_type": "markdown",
   "id": "c1d769a6",
   "metadata": {},
   "source": [
    "In a single training loop, the model makes predictions on the training datasets(fed to it in batches), and backpropagates the prediction error to adjust the model's parameter."
   ]
  },
  {
   "cell_type": "code",
   "execution_count": 6,
   "id": "be9dc98a",
   "metadata": {},
   "outputs": [],
   "source": [
    "def train(dataloader,model,loss_fn,optimizer):\n",
    "    size = len(dataloader.dataset)\n",
    "    model.train()\n",
    "    for batch,(X,y) in enumerate(dataloader):\n",
    "        X,y = X.to(device),y.to(device)\n",
    "\n",
    "        #Compute prediction error\n",
    "        pred = model(X)\n",
    "        loss = loss_fn(pred,y)\n",
    "\n",
    "        #Backpropagatio\n",
    "        loss.backward()\n",
    "        optimizer.step()\n",
    "        optimizer.zero_grad()\n",
    "\n",
    "        if batch % 100 == 0:\n",
    "            loss,current = loss.item(),(batch+1)*len(X)\n",
    "            print(f\"loss {loss:>7f} [{current:>5d}/{size:>5d}]\")"
   ]
  },
  {
   "cell_type": "markdown",
   "id": "611382ae",
   "metadata": {},
   "source": [
    "We also check the model's performance against the test dataset to ensure it is learning"
   ]
  },
  {
   "cell_type": "code",
   "execution_count": 7,
   "id": "2d523400",
   "metadata": {},
   "outputs": [],
   "source": [
    "def test(dataloader,model,loss_fn):\n",
    "    size = len(dataloader.dataset)\n",
    "    num_batches = len(dataloader)\n",
    "    model.eval()\n",
    "    test_loss,correct = 0,0\n",
    "    with torch.no_grad():\n",
    "        for X,y in dataloader:\n",
    "            X,y = X.to(device),y.to(device)\n",
    "            pred = model(X)\n",
    "            test_loss += loss_fn(pred,y).item()\n",
    "            correct += (pred.argmax(1)==y).type(torch.float).sum().item()\n",
    "        test_loss /= num_batches\n",
    "        correct /=size\n",
    "        print(f\"Test Error: \\n Accuracy: {100*correct:>0.1f}%, Avg loss: {test_loss:>8f}\\n\")"
   ]
  },
  {
   "cell_type": "markdown",
   "id": "37f1c205",
   "metadata": {},
   "source": [
    "The training process is conducted over several iterations(epochs). During each epoch, the model learn parameters to make better predictions. We print the model's accuracy and loss at each epoch; we'd like to see the accuracy increase and the loss decrease with every epoch."
   ]
  },
  {
   "cell_type": "code",
   "execution_count": 8,
   "id": "3090dd53",
   "metadata": {},
   "outputs": [
    {
     "name": "stdout",
     "output_type": "stream",
     "text": [
      "Epoch 1\n",
      "---------------------------\n",
      "loss 2.299492 [   64/60000]\n",
      "loss 2.291975 [ 6464/60000]\n",
      "loss 2.271823 [12864/60000]\n",
      "loss 2.264898 [19264/60000]\n",
      "loss 2.257400 [25664/60000]\n",
      "loss 2.218788 [32064/60000]\n",
      "loss 2.225347 [38464/60000]\n",
      "loss 2.188932 [44864/60000]\n",
      "loss 2.181459 [51264/60000]\n",
      "loss 2.162060 [57664/60000]\n",
      "Test Error: \n",
      " Accuracy: 50.4%, Avg loss: 2.153797\n",
      "\n",
      "Epoch 2\n",
      "---------------------------\n",
      "loss 2.159255 [   64/60000]\n",
      "loss 2.154958 [ 6464/60000]\n",
      "loss 2.101966 [12864/60000]\n",
      "loss 2.115595 [19264/60000]\n",
      "loss 2.077370 [25664/60000]\n",
      "loss 2.010293 [32064/60000]\n",
      "loss 2.037571 [38464/60000]\n",
      "loss 1.960083 [44864/60000]\n",
      "loss 1.957684 [51264/60000]\n",
      "loss 1.894790 [57664/60000]\n",
      "Test Error: \n",
      " Accuracy: 59.4%, Avg loss: 1.893855\n",
      "\n",
      "Epoch 3\n",
      "---------------------------\n",
      "loss 1.930763 [   64/60000]\n",
      "loss 1.897525 [ 6464/60000]\n",
      "loss 1.792275 [12864/60000]\n",
      "loss 1.822648 [19264/60000]\n",
      "loss 1.726861 [25664/60000]\n",
      "loss 1.676970 [32064/60000]\n",
      "loss 1.698228 [38464/60000]\n",
      "loss 1.602810 [44864/60000]\n",
      "loss 1.619326 [51264/60000]\n",
      "loss 1.521641 [57664/60000]\n",
      "Test Error: \n",
      " Accuracy: 62.0%, Avg loss: 1.534670\n",
      "\n",
      "Epoch 4\n",
      "---------------------------\n",
      "loss 1.612203 [   64/60000]\n",
      "loss 1.565731 [ 6464/60000]\n",
      "loss 1.427097 [12864/60000]\n",
      "loss 1.484554 [19264/60000]\n",
      "loss 1.376558 [25664/60000]\n",
      "loss 1.367527 [32064/60000]\n",
      "loss 1.385150 [38464/60000]\n",
      "loss 1.309475 [44864/60000]\n",
      "loss 1.334722 [51264/60000]\n",
      "loss 1.246691 [57664/60000]\n",
      "Test Error: \n",
      " Accuracy: 63.9%, Avg loss: 1.262851\n",
      "\n",
      "Epoch 5\n",
      "---------------------------\n",
      "loss 1.349074 [   64/60000]\n",
      "loss 1.321547 [ 6464/60000]\n",
      "loss 1.162423 [12864/60000]\n",
      "loss 1.255572 [19264/60000]\n",
      "loss 1.141114 [25664/60000]\n",
      "loss 1.156189 [32064/60000]\n",
      "loss 1.184093 [38464/60000]\n",
      "loss 1.121293 [44864/60000]\n",
      "loss 1.149624 [51264/60000]\n",
      "loss 1.080138 [57664/60000]\n",
      "Test Error: \n",
      " Accuracy: 65.0%, Avg loss: 1.090282\n",
      "\n",
      "Done!\n"
     ]
    }
   ],
   "source": [
    "epochs = 5\n",
    "for t in range(epochs):\n",
    "    print(f\"Epoch {t+1}\\n---------------------------\")\n",
    "    train(train_dataloader,model,loss_fn,optimizer)\n",
    "    test(test_dataloader,model,loss_fn)\n",
    "print(\"Done!\")"
   ]
  },
  {
   "cell_type": "markdown",
   "id": "a8432afa",
   "metadata": {},
   "source": [
    "### Saving Models\n",
    "A common way to save a model is to serialize the internal state dictionary(containing the model parametrs)."
   ]
  },
  {
   "cell_type": "code",
   "execution_count": 9,
   "id": "4c61dfa2",
   "metadata": {},
   "outputs": [
    {
     "name": "stdout",
     "output_type": "stream",
     "text": [
      "Saved PyTorch Model State to model.pth\n"
     ]
    }
   ],
   "source": [
    "torch.save(model.state_dict(),\"model.pth\")\n",
    "print(\"Saved PyTorch Model State to model.pth\")"
   ]
  },
  {
   "cell_type": "markdown",
   "id": "e17b1cb4",
   "metadata": {},
   "source": [
    "### Loading Models\n",
    "The process for loading a model includes re-creating the model structure and loading the state dictionary into it."
   ]
  },
  {
   "cell_type": "code",
   "execution_count": 10,
   "id": "4815e1b5",
   "metadata": {},
   "outputs": [
    {
     "data": {
      "text/plain": [
       "<All keys matched successfully>"
      ]
     },
     "execution_count": 10,
     "metadata": {},
     "output_type": "execute_result"
    }
   ],
   "source": [
    "model = NeuralNetwork().to(device)\n",
    "model.load_state_dict(torch.load(\"model.pth\",weights_only=True))"
   ]
  },
  {
   "cell_type": "markdown",
   "id": "fac2e41c",
   "metadata": {},
   "source": [
    "This model can now be used to make predictions."
   ]
  },
  {
   "cell_type": "code",
   "execution_count": 15,
   "id": "2eb64457",
   "metadata": {},
   "outputs": [
    {
     "name": "stdout",
     "output_type": "stream",
     "text": [
      "Predicted: \"Ankle boot\", Actual: \"Ankle boot\"\n"
     ]
    }
   ],
   "source": [
    "classes = [\n",
    "    \"T-shirt/top\",\n",
    "    \"Trouser\",\n",
    "    \"Pullover\",\n",
    "    \"Dress\",\n",
    "    \"Coat\",\n",
    "    \"Sandal\",\n",
    "    \"Shirt\",\n",
    "    \"Sneaker\",\n",
    "    \"Bag\",\n",
    "    \"Ankle boot\"\n",
    "]\n",
    "\n",
    "model.eval()\n",
    "x,y = test_data[0][0],test_data[0][1]\n",
    "with torch.no_grad():\n",
    "    x = x.to(device)\n",
    "    pred = model(x)\n",
    "    predicted,actual = classes[pred[0].argmax(0)],classes[y]\n",
    "    print(f'Predicted: \"{predicted}\", Actual: \"{actual}\"')"
   ]
  }
 ],
 "metadata": {
  "kernelspec": {
   "display_name": "Python 3",
   "language": "python",
   "name": "python3"
  },
  "language_info": {
   "codemirror_mode": {
    "name": "ipython",
    "version": 3
   },
   "file_extension": ".py",
   "mimetype": "text/x-python",
   "name": "python",
   "nbconvert_exporter": "python",
   "pygments_lexer": "ipython3",
   "version": "3.12.3"
  }
 },
 "nbformat": 4,
 "nbformat_minor": 5
}
