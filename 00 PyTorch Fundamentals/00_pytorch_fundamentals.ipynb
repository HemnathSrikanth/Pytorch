{
 "cells": [
  {
   "cell_type": "markdown",
   "id": "3e8aceb4",
   "metadata": {},
   "source": [
    "## 00 PyTorch Fundamentals\n",
    "\n",
    "[Documentation](https://www.learnpytorch.io/)\n",
    "[Github](https://github.com/mrdbourke/pytorch-deep-learning/)"
   ]
  },
  {
   "cell_type": "code",
   "execution_count": 2,
   "id": "d3b55d24",
   "metadata": {},
   "outputs": [],
   "source": [
    "import torch"
   ]
  },
  {
   "cell_type": "code",
   "execution_count": 3,
   "id": "5e6a0e25",
   "metadata": {},
   "outputs": [
    {
     "data": {
      "text/plain": [
       "'2.6.0+cu126'"
      ]
     },
     "execution_count": 3,
     "metadata": {},
     "output_type": "execute_result"
    }
   ],
   "source": [
    "torch.__version__"
   ]
  },
  {
   "cell_type": "markdown",
   "id": "1e7b080a",
   "metadata": {},
   "source": [
    "## Scalar - zero dimension just single number"
   ]
  },
  {
   "cell_type": "code",
   "execution_count": 4,
   "id": "acdb5f21",
   "metadata": {},
   "outputs": [
    {
     "name": "stdout",
     "output_type": "stream",
     "text": [
      "tensor(7)\n",
      "7\n",
      "0\n"
     ]
    }
   ],
   "source": [
    "\n",
    "scalar = torch.tensor(7)\n",
    "print(scalar)\n",
    "print(scalar.item()) # only work with scalar\n",
    "print(scalar.ndim) #no of dimensions"
   ]
  },
  {
   "cell_type": "markdown",
   "id": "8c333dcb",
   "metadata": {},
   "source": [
    "# Vector"
   ]
  },
  {
   "cell_type": "code",
   "execution_count": 5,
   "id": "cdfe31e8",
   "metadata": {},
   "outputs": [
    {
     "name": "stdout",
     "output_type": "stream",
     "text": [
      "tensor([7, 7])\n",
      "1\n",
      "torch.Size([2])\n"
     ]
    }
   ],
   "source": [
    "#Tensor takes only takes one argument so we need to pass multiple values as list and support only single data type just like array.\n",
    "vector = torch.tensor([7,7])\n",
    "print(vector)\n",
    "print(vector.ndim)\n",
    "print(vector.shape)"
   ]
  },
  {
   "cell_type": "code",
   "execution_count": 6,
   "id": "42da19d3",
   "metadata": {},
   "outputs": [
    {
     "name": "stdout",
     "output_type": "stream",
     "text": [
      "tensor([[ 7,  8],\n",
      "        [ 9, 10],\n",
      "        [11, 12]])\n",
      "2\n",
      "torch.Size([3, 2])\n"
     ]
    }
   ],
   "source": [
    "MATRIX = torch.tensor([[7,8],\n",
    "                       [9,10],\n",
    "                       [11,12]])\n",
    "print(MATRIX)\n",
    "print(MATRIX.ndim)\n",
    "print(MATRIX.shape)"
   ]
  },
  {
   "cell_type": "code",
   "execution_count": 7,
   "id": "63b692a9",
   "metadata": {},
   "outputs": [
    {
     "name": "stdout",
     "output_type": "stream",
     "text": [
      "tensor([[[1, 2, 3],\n",
      "         [4, 5, 6],\n",
      "         [7, 8, 9]]])\n"
     ]
    }
   ],
   "source": [
    "MATRIX = torch.tensor([[1,2,3],\n",
    "                       [4,5,6],\n",
    "                       [7,8,9]])\n",
    "TENSOR = torch.tensor([[[1,2,3],\n",
    "                        [4,5,6],\n",
    "                        [7,8,9]]])\n",
    "print(TENSOR)"
   ]
  },
  {
   "cell_type": "code",
   "execution_count": 8,
   "id": "8c49dc0e",
   "metadata": {},
   "outputs": [
    {
     "name": "stdout",
     "output_type": "stream",
     "text": [
      "tensor([[0.6014, 0.8261, 0.1146, 0.7396],\n",
      "        [0.6940, 0.0600, 0.3670, 0.4350],\n",
      "        [0.9001, 0.9625, 0.0104, 0.8893]])\n",
      "torch.float32\n"
     ]
    }
   ],
   "source": [
    "#Random Tensor\n",
    "random_tensor = torch.rand(size=(3,4))\n",
    "print(random_tensor)\n",
    "print(random_tensor.dtype)"
   ]
  },
  {
   "cell_type": "code",
   "execution_count": 9,
   "id": "d4c83b79",
   "metadata": {},
   "outputs": [
    {
     "name": "stdout",
     "output_type": "stream",
     "text": [
      "tensor([[[9.9344e-01, 9.2996e-01, 6.4399e-01,  ..., 4.2444e-01,\n",
      "          4.1043e-01, 9.4939e-01],\n",
      "         [4.2675e-01, 3.3688e-01, 5.0589e-03,  ..., 8.9129e-02,\n",
      "          3.7795e-01, 9.0876e-01],\n",
      "         [8.0909e-01, 6.2921e-01, 8.9517e-01,  ..., 9.2712e-01,\n",
      "          8.9692e-01, 9.3149e-01],\n",
      "         ...,\n",
      "         [3.7555e-01, 3.6154e-01, 2.3698e-01,  ..., 7.1312e-01,\n",
      "          2.4707e-01, 5.4632e-01],\n",
      "         [1.9212e-01, 5.6399e-01, 2.8006e-01,  ..., 6.6688e-01,\n",
      "          5.4347e-01, 2.7273e-02],\n",
      "         [9.2931e-01, 7.5552e-01, 8.9210e-01,  ..., 2.0988e-01,\n",
      "          8.8649e-01, 9.6090e-01]],\n",
      "\n",
      "        [[6.9025e-01, 6.7428e-02, 9.4168e-01,  ..., 2.1554e-01,\n",
      "          4.0498e-02, 7.0000e-01],\n",
      "         [2.5154e-01, 4.1677e-01, 8.1003e-01,  ..., 8.3311e-01,\n",
      "          4.8956e-01, 9.9231e-01],\n",
      "         [6.7576e-01, 3.3368e-01, 1.0858e-01,  ..., 7.8002e-01,\n",
      "          6.0651e-01, 1.0258e-01],\n",
      "         ...,\n",
      "         [7.5913e-01, 7.0019e-02, 8.9258e-04,  ..., 1.0186e-01,\n",
      "          3.7880e-01, 2.6151e-03],\n",
      "         [7.4031e-01, 9.7414e-01, 7.1195e-01,  ..., 2.2459e-01,\n",
      "          1.8670e-01, 7.2152e-01],\n",
      "         [5.0949e-01, 1.9831e-01, 8.5867e-01,  ..., 1.2247e-01,\n",
      "          4.2483e-01, 8.6480e-01]],\n",
      "\n",
      "        [[2.0901e-01, 9.6156e-01, 2.5671e-01,  ..., 1.8890e-01,\n",
      "          4.9103e-01, 2.6813e-01],\n",
      "         [6.3866e-01, 1.1284e-01, 5.2622e-01,  ..., 9.6224e-01,\n",
      "          7.7289e-01, 3.3256e-01],\n",
      "         [9.9376e-01, 1.7678e-02, 4.1117e-01,  ..., 6.6606e-01,\n",
      "          1.9980e-01, 7.6883e-01],\n",
      "         ...,\n",
      "         [9.2990e-01, 4.2552e-01, 3.1160e-01,  ..., 6.1248e-01,\n",
      "          9.9758e-02, 5.5618e-01],\n",
      "         [1.2429e-01, 9.6278e-01, 7.6584e-02,  ..., 5.5611e-01,\n",
      "          9.0213e-01, 8.7459e-01],\n",
      "         [5.8363e-01, 2.2386e-01, 4.7306e-01,  ..., 1.9817e-01,\n",
      "          7.6238e-01, 3.9466e-02]]])\n"
     ]
    }
   ],
   "source": [
    "#Create a random tensor of size(224,224,3)\n",
    "random_image_size_tensor = torch.rand(size=(3,224,224))\n",
    "random_image_size_tensor.shape,random_image_size_tensor.ndim\n",
    "print(random_image_size_tensor)"
   ]
  },
  {
   "cell_type": "code",
   "execution_count": 10,
   "id": "9b8ceeef",
   "metadata": {},
   "outputs": [
    {
     "data": {
      "text/plain": [
       "(tensor([[0., 0., 0., 0.],\n",
       "         [0., 0., 0., 0.],\n",
       "         [0., 0., 0., 0.]]),\n",
       " torch.float32)"
      ]
     },
     "execution_count": 10,
     "metadata": {},
     "output_type": "execute_result"
    }
   ],
   "source": [
    "#zeros and ones\n",
    "zeros = torch.zeros(size=(3,4))\n",
    "zeros,zeros.dtype"
   ]
  },
  {
   "cell_type": "code",
   "execution_count": 11,
   "id": "35ae7f77",
   "metadata": {},
   "outputs": [
    {
     "data": {
      "text/plain": [
       "(tensor([[1., 1., 1., 1.],\n",
       "         [1., 1., 1., 1.],\n",
       "         [1., 1., 1., 1.]]),\n",
       " torch.float32)"
      ]
     },
     "execution_count": 11,
     "metadata": {},
     "output_type": "execute_result"
    }
   ],
   "source": [
    "ones = torch.ones(size=(3,4))\n",
    "ones,ones.dtype"
   ]
  },
  {
   "cell_type": "markdown",
   "id": "2d7b7436",
   "metadata": {},
   "source": [
    "## Torch range and Tensors like"
   ]
  },
  {
   "cell_type": "code",
   "execution_count": 12,
   "id": "f1264cf6",
   "metadata": {},
   "outputs": [
    {
     "name": "stdout",
     "output_type": "stream",
     "text": [
      "tensor([0, 1, 2, 3, 4, 5, 6, 7, 8, 9])\n"
     ]
    },
    {
     "name": "stderr",
     "output_type": "stream",
     "text": [
      "C:\\Users\\srika\\AppData\\Local\\Temp\\ipykernel_23784\\734641592.py:2: UserWarning: torch.range is deprecated and will be removed in a future release because its behavior is inconsistent with Python's range builtin. Instead, use torch.arange, which produces values in [start, end).\n",
      "  zero_to_ten_deprecated = torch.range(0,10) #Note: this may return error in the future versions\n"
     ]
    }
   ],
   "source": [
    "# use torch.arange(), and torch.range() is depricated\n",
    "zero_to_ten_deprecated = torch.range(0,10) #Note: this may return error in the future versions\n",
    "\n",
    "#Create a range of value 0 to 10\n",
    "zero_to_ten = torch.arange(start=0,end=10,step=1)\n",
    "print(zero_to_ten)"
   ]
  },
  {
   "cell_type": "code",
   "execution_count": 13,
   "id": "4686af34",
   "metadata": {},
   "outputs": [
    {
     "name": "stdout",
     "output_type": "stream",
     "text": [
      "tensor([0, 0, 0, 0, 0, 0, 0, 0, 0, 0])\n"
     ]
    }
   ],
   "source": [
    "#Some times you might want one tensor of a certain type with the same shape as another tensor.\n",
    "#For example, a tensor of all zeros with the same shape as a previous tensor.\n",
    "\n",
    "ten_zeros = torch.zeros_like(input=zero_to_ten)\n",
    "print(ten_zeros)\n"
   ]
  },
  {
   "cell_type": "markdown",
   "id": "ef78296d",
   "metadata": {},
   "source": [
    "## Tensor datatypes\n"
   ]
  },
  {
   "cell_type": "code",
   "execution_count": 14,
   "id": "337ca32d",
   "metadata": {},
   "outputs": [
    {
     "data": {
      "text/plain": [
       "(torch.Size([3]), torch.float32, device(type='cpu'))"
      ]
     },
     "execution_count": 14,
     "metadata": {},
     "output_type": "execute_result"
    }
   ],
   "source": [
    "#dtype defaults to None, which is torch.float32 or whatever datatype is passed.\n",
    "#device defaults to None, which uses the default tensor type.\n",
    "#if requires_grad is True, operations performed on the tensor are recorded.\n",
    "float_32_tensor = torch.tensor([3.0,6.0,9.0],dtype=None,device=None,requires_grad=False)\n",
    "float_32_tensor.shape,float_32_tensor.dtype,float_32_tensor.device"
   ]
  },
  {
   "cell_type": "code",
   "execution_count": 15,
   "id": "9d0b79f1",
   "metadata": {},
   "outputs": [
    {
     "name": "stdout",
     "output_type": "stream",
     "text": [
      "torch.float16\n"
     ]
    }
   ],
   "source": [
    "float_16_tensor = torch.tensor([3.0,6.0,9.0],dtype=torch.float16) # torch.half would also work\n",
    "print(float_16_tensor.dtype)"
   ]
  },
  {
   "cell_type": "code",
   "execution_count": 16,
   "id": "59bbada8",
   "metadata": {},
   "outputs": [],
   "source": [
    "float_32_tensor = torch.tensor([3.0,6.0,9.0],dtype=None,device=\"cuda\",requires_grad=False)\n",
    "float_16_tensor = torch.tensor([3.0,6.0,9.0],dtype=torch.float16,device=\"cuda\",requires_grad=False)"
   ]
  },
  {
   "cell_type": "markdown",
   "id": "7122d726",
   "metadata": {},
   "source": [
    "## Getting information from tensors"
   ]
  },
  {
   "cell_type": "code",
   "execution_count": 17,
   "id": "1515ec40",
   "metadata": {},
   "outputs": [
    {
     "name": "stdout",
     "output_type": "stream",
     "text": [
      "tensor([3., 6., 9.], device='cuda:0') tensor([3., 6., 9.], device='cuda:0', dtype=torch.float16)\n",
      "Shape of tensor: torch.Size([3]), torch.Size([3])\n",
      "Datatype of tensor: torch.float32,torch.float16\n",
      "Device tensor is stored on: cuda:0, cuda:0\n"
     ]
    }
   ],
   "source": [
    "print(float_32_tensor,float_16_tensor)\n",
    "print(f\"Shape of tensor: {float_32_tensor.shape}, {float_16_tensor.shape}\")\n",
    "print(f\"Datatype of tensor: {float_32_tensor.dtype},{float_16_tensor.dtype}\")\n",
    "print(f\"Device tensor is stored on: {float_32_tensor.device}, {float_16_tensor.device}\")"
   ]
  },
  {
   "cell_type": "code",
   "execution_count": 18,
   "id": "37c950fa",
   "metadata": {},
   "outputs": [
    {
     "name": "stdout",
     "output_type": "stream",
     "text": [
      "tensor([[0.7857, 0.9457, 0.8463, 0.3303],\n",
      "        [0.2750, 0.0563, 0.3631, 0.6921],\n",
      "        [0.1836, 0.6602, 0.4464, 0.0040]])\n",
      "Shape of tensor: torch.Size([3, 4])\n",
      "Datatype of tensor: torch.float32\n",
      "Device tensor is stored on: cpu\n"
     ]
    }
   ],
   "source": [
    "#create a tensor\n",
    "some_tensor = torch.rand(3,4)\n",
    "#Find out details about it\n",
    "print(some_tensor)\n",
    "print(f\"Shape of tensor: {some_tensor.shape}\")\n",
    "print(f\"Datatype of tensor: {some_tensor.dtype}\")\n",
    "print(f\"Device tensor is stored on: {some_tensor.device}\")"
   ]
  },
  {
   "cell_type": "markdown",
   "id": "c951451d",
   "metadata": {},
   "source": [
    "### Floating Point"
   ]
  },
  {
   "attachments": {
    "image.png": {
     "image/png": "[encoded data removed]"
    }
   },
   "cell_type": "markdown",
   "id": "b500e0a2",
   "metadata": {},
   "source": [
    "![image.png](attachment:image.png)"
   ]
  },
  {
   "cell_type": "code",
   "execution_count": 19,
   "id": "ed4a3f41",
   "metadata": {},
   "outputs": [
    {
     "data": {
      "text/plain": [
       "(torch.int64, torch.float16, torch.float64, torch.bfloat16)"
      ]
     },
     "execution_count": 19,
     "metadata": {},
     "output_type": "execute_result"
    }
   ],
   "source": [
    "f32  = torch.tensor([3,224,224]) #Defualt datatype\n",
    "f16  = torch.tensor([3,224,224],dtype=torch.float16)\n",
    "f64  = torch.tensor([3,224,224],dtype=torch.float64)\n",
    "bf16 = torch.tensor([3,224,224],dtype=torch.bfloat16)\n",
    "\n",
    "f32.dtype,f16.dtype,f64.dtype,bf16.dtype"
   ]
  },
  {
   "cell_type": "code",
   "execution_count": 20,
   "id": "79ab9362",
   "metadata": {},
   "outputs": [
    {
     "data": {
      "text/plain": [
       "tensor([9.0000e+00, 5.0176e+04, 5.0176e+04], dtype=torch.float16)"
      ]
     },
     "execution_count": 20,
     "metadata": {},
     "output_type": "execute_result"
    }
   ],
   "source": [
    "f32*f16"
   ]
  },
  {
   "cell_type": "markdown",
   "id": "41b1751b",
   "metadata": {},
   "source": [
    "#### Alternate"
   ]
  },
  {
   "cell_type": "code",
   "execution_count": 21,
   "id": "c426b4de",
   "metadata": {},
   "outputs": [
    {
     "data": {
      "text/plain": [
       "(tensor([  3., 224., 224.], dtype=torch.float16),\n",
       " tensor([  3., 224., 224.], dtype=torch.bfloat16),\n",
       " tensor([  3., 224., 224.]),\n",
       " tensor([  3., 224., 224.], dtype=torch.float64))"
      ]
     },
     "execution_count": 21,
     "metadata": {},
     "output_type": "execute_result"
    }
   ],
   "source": [
    "#CPU Tensor\n",
    "f16  = torch.HalfTensor([3,224,224])\n",
    "bf16 = torch.BFloat16Tensor([3,224,224])\n",
    "f32  = torch.FloatTensor([3,224,224])\n",
    "f64  = torch.DoubleTensor([3,224,224])\n",
    "\n",
    "f16,bf16,f32,f64\n"
   ]
  },
  {
   "cell_type": "code",
   "execution_count": 22,
   "id": "f280ffd1",
   "metadata": {},
   "outputs": [
    {
     "name": "stderr",
     "output_type": "stream",
     "text": [
      "C:\\Users\\srika\\AppData\\Local\\Temp\\ipykernel_23784\\3423206018.py:2: UserWarning: The torch.cuda.*DtypeTensor constructors are no longer recommended. It's best to use methods such as torch.tensor(data, dtype=*, device='cuda') to create tensors. (Triggered internally at C:\\actions-runner\\_work\\pytorch\\pytorch\\pytorch\\torch\\csrc\\tensor\\python_tensor.cpp:80.)\n",
      "  f16  = torch.cuda.HalfTensor([3,224,224])\n"
     ]
    },
    {
     "data": {
      "text/plain": [
       "(tensor([  3., 224., 224.], device='cuda:0', dtype=torch.float16),\n",
       " tensor([  3., 224., 224.], device='cuda:0', dtype=torch.bfloat16),\n",
       " tensor([  3., 224., 224.], device='cuda:0'),\n",
       " tensor([  3., 224., 224.], device='cuda:0', dtype=torch.float64))"
      ]
     },
     "execution_count": 22,
     "metadata": {},
     "output_type": "execute_result"
    }
   ],
   "source": [
    "#GPU Tensor\n",
    "f16  = torch.cuda.HalfTensor([3,224,224])\n",
    "bf16 = torch.cuda.BFloat16Tensor([3,224,224])\n",
    "f32  = torch.cuda.FloatTensor([3,224,224])\n",
    "f64  = torch.cuda.DoubleTensor([3,224,224])\n",
    "\n",
    "# At first use it triggered warning to don't use this method when cuda is used and recommended the device=\"cuda\" method.\n",
    "\n",
    "f16,bf16,f32,f64"
   ]
  },
  {
   "cell_type": "markdown",
   "id": "0b8c0ca8",
   "metadata": {},
   "source": [
    "### Integer"
   ]
  },
  {
   "cell_type": "code",
   "execution_count": 23,
   "id": "c5663d45",
   "metadata": {},
   "outputs": [
    {
     "data": {
      "text/plain": [
       "(torch.int8, torch.int16, torch.int32, torch.int64)"
      ]
     },
     "execution_count": 23,
     "metadata": {},
     "output_type": "execute_result"
    }
   ],
   "source": [
    "#Signed Integer - The range is from negative to positive\n",
    "i8  = torch.tensor([3,127,127],dtype=torch.int8)# its signed dtype so the range is -128 to 127\n",
    "i16 = torch.tensor([3,224,224],dtype=torch.int16)\n",
    "i32 = torch.tensor([3,224,224],dtype=torch.int32)\n",
    "i64 = torch.tensor([3,224,224],dtype=torch.int64)\n",
    "\n",
    "i8.dtype,i16.dtype,i32.dtype,i64.dtype"
   ]
  },
  {
   "cell_type": "code",
   "execution_count": 24,
   "id": "d12b9b16",
   "metadata": {},
   "outputs": [
    {
     "data": {
      "text/plain": [
       "(torch.uint8, torch.uint16, torch.uint32, torch.uint64)"
      ]
     },
     "execution_count": 24,
     "metadata": {},
     "output_type": "execute_result"
    }
   ],
   "source": [
    "#Unsigned Integer - The range is from zero to positive or negative\n",
    "ui8  = torch.tensor([3,255,255],dtype=torch.uint8)#its unsigned so the range is 0 to 255 or -255\n",
    "ui16 = torch.tensor([3,224,224],dtype=torch.uint16)\n",
    "ui32 = torch.tensor([3,224,224],dtype=torch.uint32)\n",
    "ui64 = torch.tensor([3,224,224],dtype=torch.uint64)\n",
    "\n",
    "ui8.dtype,ui16.dtype,ui32.dtype,ui64.dtype"
   ]
  },
  {
   "cell_type": "markdown",
   "id": "01ccd357",
   "metadata": {},
   "source": [
    "#### Alternate"
   ]
  },
  {
   "cell_type": "code",
   "execution_count": 25,
   "id": "6723f53b",
   "metadata": {},
   "outputs": [
    {
     "data": {
      "text/plain": [
       "(tensor([  3, 127, 127], dtype=torch.int8),\n",
       " tensor([  3, 224, 224], dtype=torch.int16),\n",
       " tensor([  3, 224, 224], dtype=torch.int32),\n",
       " tensor([  3, 224, 224]),\n",
       " tensor([255], dtype=torch.uint8))"
      ]
     },
     "execution_count": 25,
     "metadata": {},
     "output_type": "execute_result"
    }
   ],
   "source": [
    "#CPU Tensor\n",
    "\n",
    "#Signed\n",
    "i8  = torch.CharTensor([3,127,127])\n",
    "i16 = torch.ShortTensor([3,224,224])\n",
    "i32 = torch.IntTensor([3,224,224])\n",
    "i64 = torch.LongTensor([3,224,224])\n",
    "\n",
    "#Unsigned\n",
    "ui8 = torch.ByteTensor([255])\n",
    "\n",
    "i8,i16,i32,i64,ui8"
   ]
  },
  {
   "cell_type": "code",
   "execution_count": 26,
   "id": "ef9a8359",
   "metadata": {},
   "outputs": [
    {
     "data": {
      "text/plain": [
       "(tensor([  3, 127, 127], device='cuda:0', dtype=torch.int8),\n",
       " tensor([  3, 224, 224], device='cuda:0', dtype=torch.int16),\n",
       " tensor([  3, 224, 224], device='cuda:0', dtype=torch.int32),\n",
       " tensor([  3, 224, 224], device='cuda:0'),\n",
       " tensor([  3, 255, 255], device='cuda:0', dtype=torch.uint8))"
      ]
     },
     "execution_count": 26,
     "metadata": {},
     "output_type": "execute_result"
    }
   ],
   "source": [
    "#GPU Tensor\n",
    "\n",
    "#Signed\n",
    "i8 = torch.cuda.CharTensor([3,127,127])\n",
    "i16 = torch.cuda.ShortTensor([3,224,224])\n",
    "i32 = torch.cuda.IntTensor([3,224,224])\n",
    "i64 = torch.cuda.LongTensor([3,224,224])\n",
    "\n",
    "#Unsinged\n",
    "ui8 = torch.cuda.ByteTensor([3,255,255])\n",
    "\n",
    "i8,i16,i32,i64,ui8"
   ]
  },
  {
   "cell_type": "markdown",
   "id": "0e7f0a5f",
   "metadata": {},
   "source": [
    "### Tensor Manipulation"
   ]
  },
  {
   "cell_type": "code",
   "execution_count": 27,
   "id": "955699c6",
   "metadata": {},
   "outputs": [
    {
     "name": "stdout",
     "output_type": "stream",
     "text": [
      "tensor([11, 12, 13])\n"
     ]
    }
   ],
   "source": [
    "tensor = torch.tensor([1,2,3])\n",
    "tensor = tensor+10\n",
    "print(tensor)"
   ]
  },
  {
   "cell_type": "code",
   "execution_count": 28,
   "id": "e469eac0",
   "metadata": {},
   "outputs": [
    {
     "name": "stdout",
     "output_type": "stream",
     "text": [
      "tensor([1, 2, 3])\n"
     ]
    }
   ],
   "source": [
    "tensor = tensor - 10\n",
    "print(tensor)"
   ]
  },
  {
   "cell_type": "code",
   "execution_count": 29,
   "id": "b4227a9f",
   "metadata": {},
   "outputs": [
    {
     "name": "stdout",
     "output_type": "stream",
     "text": [
      "tensor([10, 20, 30])\n"
     ]
    }
   ],
   "source": [
    "tensor = tensor * 10\n",
    "print(tensor)"
   ]
  },
  {
   "cell_type": "code",
   "execution_count": 30,
   "id": "cad948fa",
   "metadata": {},
   "outputs": [
    {
     "name": "stdout",
     "output_type": "stream",
     "text": [
      "tensor([100, 400, 900])\n"
     ]
    }
   ],
   "source": [
    "tensor = tensor ** 2\n",
    "print(tensor)"
   ]
  },
  {
   "cell_type": "code",
   "execution_count": 31,
   "id": "9305ac78",
   "metadata": {},
   "outputs": [
    {
     "name": "stdout",
     "output_type": "stream",
     "text": [
      "tensor([ 50, 200, 450])\n"
     ]
    }
   ],
   "source": [
    "tensor = tensor // 2\n",
    "print(tensor)"
   ]
  },
  {
   "cell_type": "code",
   "execution_count": 32,
   "id": "ede68297",
   "metadata": {},
   "outputs": [
    {
     "name": "stdout",
     "output_type": "stream",
     "text": [
      "tensor([ 25., 100., 225.])\n"
     ]
    }
   ],
   "source": [
    "tensor = tensor / 2\n",
    "print(tensor)"
   ]
  },
  {
   "cell_type": "code",
   "execution_count": 33,
   "id": "d9b83949",
   "metadata": {},
   "outputs": [
    {
     "name": "stdout",
     "output_type": "stream",
     "text": [
      "tensor([11, 12, 13])\n"
     ]
    }
   ],
   "source": [
    "tensor = torch.tensor([1,2,3])\n",
    "tensor = torch.add(tensor,10) # unlike list methods we need to store that update in the variable\n",
    "print(tensor)"
   ]
  },
  {
   "cell_type": "code",
   "execution_count": 34,
   "id": "770752fe",
   "metadata": {},
   "outputs": [
    {
     "name": "stdout",
     "output_type": "stream",
     "text": [
      "tensor([1, 2, 3])\n"
     ]
    }
   ],
   "source": [
    "tensor = torch.sub(tensor,10)\n",
    "print(tensor)"
   ]
  },
  {
   "cell_type": "code",
   "execution_count": 35,
   "id": "d49e2cce",
   "metadata": {},
   "outputs": [
    {
     "name": "stdout",
     "output_type": "stream",
     "text": [
      "tensor([20, 40, 60])\n"
     ]
    }
   ],
   "source": [
    "tensor = torch.mul(tensor,20)\n",
    "print(tensor)"
   ]
  },
  {
   "cell_type": "code",
   "execution_count": 36,
   "id": "8858384b",
   "metadata": {},
   "outputs": [
    {
     "name": "stdout",
     "output_type": "stream",
     "text": [
      "tensor([ 400, 1600, 3600])\n"
     ]
    }
   ],
   "source": [
    "tensor = torch.pow(tensor,2)\n",
    "print(tensor)"
   ]
  },
  {
   "cell_type": "code",
   "execution_count": 37,
   "id": "f324ff99",
   "metadata": {},
   "outputs": [
    {
     "name": "stdout",
     "output_type": "stream",
     "text": [
      "tensor([ 40., 160., 360.])\n"
     ]
    }
   ],
   "source": [
    "tensor = torch.div(tensor,10)\n",
    "print(tensor)"
   ]
  },
  {
   "cell_type": "code",
   "execution_count": 38,
   "id": "50657bd1",
   "metadata": {},
   "outputs": [
    {
     "name": "stdout",
     "output_type": "stream",
     "text": [
      "tensor([ 4., 16., 36.])\n"
     ]
    }
   ],
   "source": [
    "tensor = torch.floor_divide(tensor,10)\n",
    "print(tensor)"
   ]
  },
  {
   "cell_type": "markdown",
   "id": "01c35fa6",
   "metadata": {},
   "source": [
    "### Matrix Multiplication"
   ]
  },
  {
   "cell_type": "markdown",
   "id": "a45ed78f",
   "metadata": {},
   "source": [
    "One of then most common operations in machine learning and deep learning algorithms(like neural networks) is matrix mulitiplication.\n",
    "PyTorch implements matrix multiplication functionality in the torch.matmul() method.\n",
    "The main two rules for matrix multiplication to remember are:\n",
    "\n",
    "1. The inner dimensions must match:\n",
    "- (3,2) @ (3,2) won't work\n",
    "- (2,3) @ (3,2) will work\n",
    "- (3,2) @ (2,3) will work\n",
    "\n",
    "2. The resulting matrix has the shape of the outer dimensions:\n",
    "- (2,3) @ (3,2) -> (2,2)\n",
    "- (3,2) @ (2,3) -> (3,3)\n",
    "\n",
    "**Note: \"@\" in Python is the symbol for matrix multiplication**\n",
    "\n",
    "**Resource: You can see all of the rules for matrix multiplication using `torch.matmul()` in the Pytorch documentation.**"
   ]
  },
  {
   "cell_type": "code",
   "execution_count": 39,
   "id": "1f4e8a16",
   "metadata": {},
   "outputs": [
    {
     "name": "stdout",
     "output_type": "stream",
     "text": [
      "torch.Size([3])\n"
     ]
    }
   ],
   "source": [
    "a = torch.tensor([1,2,3])\n",
    "print(a.shape)"
   ]
  },
  {
   "cell_type": "markdown",
   "id": "ec5ad180",
   "metadata": {},
   "source": [
    "| Operation                  | Calculation              | Code                   |\n",
    "| ---------------------------| -------------------------|------------------------|\n",
    "| Element-wise multiplication| `[1*1,2*2,3*3] = [1,4,9]`| `tensor * tensor`      |\n",
    "| Matrix multiplication      | `[1*1+2*2+3*3] = [14]`   | `tensor.matmul(tensor)`|"
   ]
  },
  {
   "cell_type": "code",
   "execution_count": 40,
   "id": "6333ad12",
   "metadata": {},
   "outputs": [
    {
     "name": "stdout",
     "output_type": "stream",
     "text": [
      "tensor([1, 4, 9])\n"
     ]
    }
   ],
   "source": [
    "#Element - wise matrix multiplication\n",
    "print(a*a)"
   ]
  },
  {
   "cell_type": "code",
   "execution_count": 41,
   "id": "99242501",
   "metadata": {},
   "outputs": [
    {
     "data": {
      "text/plain": [
       "tensor(14)"
      ]
     },
     "execution_count": 41,
     "metadata": {},
     "output_type": "execute_result"
    }
   ],
   "source": [
    "#Matrix multiplication\n",
    "torch.matmul(a,a)"
   ]
  },
  {
   "cell_type": "code",
   "execution_count": 42,
   "id": "a427898c",
   "metadata": {},
   "outputs": [
    {
     "data": {
      "text/plain": [
       "tensor(14)"
      ]
     },
     "execution_count": 42,
     "metadata": {},
     "output_type": "execute_result"
    }
   ],
   "source": [
    "#Can also use the '@' symbol for matrix multiplication, though not recommended.\n",
    "a@a"
   ]
  },
  {
   "cell_type": "markdown",
   "id": "85874368",
   "metadata": {},
   "source": [
    "You can do matrix multiplication by hand but its not recommended.\n",
    "\n",
    "The in-built `torch.matmul()` method is faster."
   ]
  },
  {
   "cell_type": "code",
   "execution_count": 43,
   "id": "ac2e861d",
   "metadata": {},
   "outputs": [
    {
     "name": "stdout",
     "output_type": "stream",
     "text": [
      "14\n",
      "tensor(14)\n",
      "CPU times: total: 0 ns\n",
      "Wall time: 999 μs\n"
     ]
    }
   ],
   "source": [
    "%%time\n",
    "a = [1,2,3]\n",
    "b = [1,2,3]\n",
    "value = 0\n",
    "for i in range(len(a)):\n",
    "    value += a[i]*b[i]\n",
    "\n",
    "print(value)\n",
    "\n",
    "a = torch.tensor([1,2,3])\n",
    "b = torch.tensor([1,2,3])\n",
    "# c = a @ b # Alternative Matrix Multiplication but not recommended.\n",
    "c = torch.matmul(a,b)\n",
    "print(c)"
   ]
  },
  {
   "cell_type": "code",
   "execution_count": 44,
   "id": "25290775",
   "metadata": {},
   "outputs": [
    {
     "name": "stdout",
     "output_type": "stream",
     "text": [
      "CPU times: total: 0 ns\n",
      "Wall time: 0 ns\n"
     ]
    },
    {
     "data": {
      "text/plain": [
       "tensor(14)"
      ]
     },
     "execution_count": 44,
     "metadata": {},
     "output_type": "execute_result"
    }
   ],
   "source": [
    "%%time\n",
    "a = torch.tensor([1,2,3])\n",
    "b = torch.tensor([1,2,3])\n",
    "torch.matmul(a,b)"
   ]
  },
  {
   "cell_type": "code",
   "execution_count": 45,
   "id": "3067482a",
   "metadata": {},
   "outputs": [
    {
     "name": "stdout",
     "output_type": "stream",
     "text": [
      "CPU times: total: 0 ns\n",
      "Wall time: 1e+03 μs\n"
     ]
    },
    {
     "data": {
      "text/plain": [
       "tensor([[19, 22],\n",
       "        [43, 50]])"
      ]
     },
     "execution_count": 45,
     "metadata": {},
     "output_type": "execute_result"
    }
   ],
   "source": [
    "%%time\n",
    "a = torch.tensor([[1,2],[3,4]])\n",
    "b = torch.tensor([[5,6],[7,8]])\n",
    "torch.matmul(a,b)"
   ]
  },
  {
   "cell_type": "markdown",
   "id": "e7fd1be4",
   "metadata": {},
   "source": [
    "#### One of the most common errors is deep learning(shape errors)\n",
    "\n",
    "Because much of deep learning is multiplying and performing operations on matrices and matrices have a strict rule about what shapes and sizes can be combined, one of the most common errors you'll run into in deep learning is shape mismatches"
   ]
  },
  {
   "cell_type": "code",
   "execution_count": 46,
   "id": "d4d52a7d",
   "metadata": {},
   "outputs": [
    {
     "ename": "RuntimeError",
     "evalue": "mat1 and mat2 shapes cannot be multiplied (3x2 and 3x2)",
     "output_type": "error",
     "traceback": [
      "\u001b[1;31m---------------------------------------------------------------------------\u001b[0m",
      "\u001b[1;31mRuntimeError\u001b[0m                              Traceback (most recent call last)",
      "Cell \u001b[1;32mIn[46], line 8\u001b[0m\n\u001b[0;32m      2\u001b[0m tensor_A \u001b[38;5;241m=\u001b[39m torch\u001b[38;5;241m.\u001b[39mtensor([[\u001b[38;5;241m1\u001b[39m,\u001b[38;5;241m2\u001b[39m],\n\u001b[0;32m      3\u001b[0m                          [\u001b[38;5;241m3\u001b[39m,\u001b[38;5;241m4\u001b[39m],\n\u001b[0;32m      4\u001b[0m                          [\u001b[38;5;241m5\u001b[39m,\u001b[38;5;241m6\u001b[39m]], dtype\u001b[38;5;241m=\u001b[39mtorch\u001b[38;5;241m.\u001b[39mfloat32)\n\u001b[0;32m      5\u001b[0m tensor_B \u001b[38;5;241m=\u001b[39m torch\u001b[38;5;241m.\u001b[39mtensor([[\u001b[38;5;241m7\u001b[39m,\u001b[38;5;241m10\u001b[39m],\n\u001b[0;32m      6\u001b[0m                          [\u001b[38;5;241m8\u001b[39m,\u001b[38;5;241m11\u001b[39m],\n\u001b[0;32m      7\u001b[0m                          [\u001b[38;5;241m9\u001b[39m,\u001b[38;5;241m12\u001b[39m]], dtype\u001b[38;5;241m=\u001b[39mtorch\u001b[38;5;241m.\u001b[39mfloat32)\n\u001b[1;32m----> 8\u001b[0m \u001b[43mtorch\u001b[49m\u001b[38;5;241;43m.\u001b[39;49m\u001b[43mmatmul\u001b[49m\u001b[43m(\u001b[49m\u001b[43mtensor_A\u001b[49m\u001b[43m,\u001b[49m\u001b[43mtensor_B\u001b[49m\u001b[43m)\u001b[49m\n",
      "\u001b[1;31mRuntimeError\u001b[0m: mat1 and mat2 shapes cannot be multiplied (3x2 and 3x2)"
     ]
    }
   ],
   "source": [
    "#Shapes need to be in the right way\n",
    "tensor_A = torch.tensor([[1,2],\n",
    "                         [3,4],\n",
    "                         [5,6]], dtype=torch.float32)\n",
    "tensor_B = torch.tensor([[7,10],\n",
    "                         [8,11],\n",
    "                         [9,12]], dtype=torch.float32)\n",
    "torch.matmul(tensor_A,tensor_B)"
   ]
  },
  {
   "cell_type": "markdown",
   "id": "4d8dd372",
   "metadata": {},
   "source": [
    "We can make matrix multiplication work between `tensor_A` and `tensor_B` by making their inner dimension match.\n",
    "\n",
    "one of the ways to do this with a **transpose**(switching the dimensions of a given tensor).\n",
    "\n",
    "You can perform transposes in PyTorch using either:\n",
    "\n",
    "- `torch.transpose(input,dim0,dim1)` - where `input` is the desired tensor to transpose and `dim0` and `dim1` are the dimensions to be swapped.\n",
    "- `tensor.T` - where `tensor` is the desired tensor to transpose.\n",
    "\n",
    "Lets try the latter."
   ]
  },
  {
   "cell_type": "code",
   "execution_count": 50,
   "id": "45169fb7",
   "metadata": {},
   "outputs": [
    {
     "name": "stdout",
     "output_type": "stream",
     "text": [
      "tensor([[1., 2.],\n",
      "        [3., 4.],\n",
      "        [5., 6.]])\n",
      "tensor([[ 7., 10.],\n",
      "        [ 8., 11.],\n",
      "        [ 9., 12.]])\n"
     ]
    }
   ],
   "source": [
    "#view tensor_A and tensor_B\n",
    "print(tensor_A)\n",
    "print(tensor_B)"
   ]
  },
  {
   "cell_type": "code",
   "execution_count": 51,
   "id": "88515236",
   "metadata": {},
   "outputs": [
    {
     "name": "stdout",
     "output_type": "stream",
     "text": [
      "tensor([[1., 2.],\n",
      "        [3., 4.],\n",
      "        [5., 6.]])\n",
      "tensor([[ 7.,  8.,  9.],\n",
      "        [10., 11., 12.]])\n"
     ]
    }
   ],
   "source": [
    "#view tensor_A and tensor_B.T\n",
    "print(tensor_A)\n",
    "print(tensor_B.T)"
   ]
  },
  {
   "cell_type": "code",
   "execution_count": 52,
   "id": "209c06a7",
   "metadata": {},
   "outputs": [
    {
     "name": "stdout",
     "output_type": "stream",
     "text": [
      "Original shapes: tensor_A = torch.Size([3, 2]), tensor_B = torch.Size([3, 2])\n",
      "New shapes: tensor_A = torch.Size([3, 2]) (same as above), tensor_B.T = torch.Size([2, 3])\n",
      "Multiplying: torch.Size([3, 2])*torch.Size([2, 3]) <- innner dimensions match\n",
      "Output:\n",
      "\n",
      "tensor([[ 27.,  30.,  33.],\n",
      "        [ 61.,  68.,  75.],\n",
      "        [ 95., 106., 117.]])\n",
      "\n",
      "Output shape: torch.Size([3, 3])\n"
     ]
    }
   ],
   "source": [
    "#The operation works when tensor_B is transposed\n",
    "print(f\"Original shapes: tensor_A = {tensor_A.shape}, tensor_B = {tensor_B.shape}\")\n",
    "print(f\"New shapes: tensor_A = {tensor_A.shape} (same as above), tensor_B.T = {tensor_B.T.shape}\")\n",
    "print(f\"Multiplying: {tensor_A.shape}*{tensor_B.T.shape} <- innner dimensions match\")\n",
    "print(f\"Output:\\n\")\n",
    "output = torch.matmul(tensor_A,tensor_B.T)\n",
    "print(output)\n",
    "print(f\"\\nOutput shape: {output.shape}\")"
   ]
  },
  {
   "cell_type": "code",
   "execution_count": 53,
   "id": "21db5cac",
   "metadata": {},
   "outputs": [
    {
     "data": {
      "text/plain": [
       "tensor([[ 27.,  30.,  33.],\n",
       "        [ 61.,  68.,  75.],\n",
       "        [ 95., 106., 117.]])"
      ]
     },
     "execution_count": 53,
     "metadata": {},
     "output_type": "execute_result"
    }
   ],
   "source": [
    "#torch.mm is a shortcut for matmul\n",
    "torch.mm(tensor_A,tensor_B.T)"
   ]
  },
  {
   "cell_type": "markdown",
   "id": "6a2fb2ab",
   "metadata": {},
   "source": [
    "Without the transpose, the rules of matrix multiplication aren't fulfilled and we get an error like above.\n",
    "\n",
    "You can create your own matrix multiplication visuals like this at http://matrixmultiplication.xyz/.\n",
    "\n",
    "Note: A matrix multiplication like this is also referred to as the dot product of two matrices.\n",
    "\n",
    "Neural networks are full of matrix multiplications and dot products."
   ]
  },
  {
   "cell_type": "markdown",
   "id": "a61ad4f5",
   "metadata": {},
   "source": [
    "### Finding the min, max, mean, sum, etc(tensor aggregation)"
   ]
  },
  {
   "cell_type": "code",
   "execution_count": 54,
   "id": "8460b33c",
   "metadata": {},
   "outputs": [
    {
     "name": "stdout",
     "output_type": "stream",
     "text": [
      "tensor([ 1, 11, 21, 31, 41, 51, 61, 71, 81, 91])\n"
     ]
    }
   ],
   "source": [
    "#Create a tensor\n",
    "x = torch.arange(0,100,10)\n",
    "x = x+1\n",
    "print(x)"
   ]
  },
  {
   "cell_type": "code",
   "execution_count": 55,
   "id": "f23ecc40",
   "metadata": {},
   "outputs": [
    {
     "data": {
      "text/plain": [
       "(tensor(1), tensor(1))"
      ]
     },
     "execution_count": 55,
     "metadata": {},
     "output_type": "execute_result"
    }
   ],
   "source": [
    "#find the min\n",
    "torch.min(x),x.min()"
   ]
  },
  {
   "cell_type": "code",
   "execution_count": 56,
   "id": "b1cffe50",
   "metadata": {},
   "outputs": [
    {
     "data": {
      "text/plain": [
       "(tensor(91), tensor(91))"
      ]
     },
     "execution_count": 56,
     "metadata": {},
     "output_type": "execute_result"
    }
   ],
   "source": [
    "#find the max\n",
    "torch.max(x),x.max()"
   ]
  },
  {
   "cell_type": "code",
   "execution_count": 57,
   "id": "b8a106de",
   "metadata": {},
   "outputs": [
    {
     "ename": "RuntimeError",
     "evalue": "mean(): could not infer output dtype. Input dtype must be either a floating point or complex dtype. Got: Long",
     "output_type": "error",
     "traceback": [
      "\u001b[1;31m---------------------------------------------------------------------------\u001b[0m",
      "\u001b[1;31mRuntimeError\u001b[0m                              Traceback (most recent call last)",
      "Cell \u001b[1;32mIn[57], line 2\u001b[0m\n\u001b[0;32m      1\u001b[0m \u001b[38;5;66;03m#find the mean\u001b[39;00m\n\u001b[1;32m----> 2\u001b[0m \u001b[43mtorch\u001b[49m\u001b[38;5;241;43m.\u001b[39;49m\u001b[43mmean\u001b[49m\u001b[43m(\u001b[49m\u001b[43mx\u001b[49m\u001b[43m)\u001b[49m,x\u001b[38;5;241m.\u001b[39mmean() \u001b[38;5;66;03m#typical dtype error. Some operations only possible in particular datatype.\u001b[39;00m\n",
      "\u001b[1;31mRuntimeError\u001b[0m: mean(): could not infer output dtype. Input dtype must be either a floating point or complex dtype. Got: Long"
     ]
    }
   ],
   "source": [
    "#find the mean\n",
    "torch.mean(x),x.mean() #typical dtype error. Some operations only possible in particular datatype."
   ]
  },
  {
   "cell_type": "code",
   "execution_count": 58,
   "id": "5051c679",
   "metadata": {},
   "outputs": [
    {
     "data": {
      "text/plain": [
       "(tensor(46.), tensor(46.))"
      ]
     },
     "execution_count": 58,
     "metadata": {},
     "output_type": "execute_result"
    }
   ],
   "source": [
    "#find the mean\n",
    "torch.mean(x.type(torch.float32)),x.type(torch.float32).mean()"
   ]
  },
  {
   "cell_type": "code",
   "execution_count": 60,
   "id": "6cd6b25f",
   "metadata": {},
   "outputs": [
    {
     "data": {
      "text/plain": [
       "(tensor(460), tensor(460))"
      ]
     },
     "execution_count": 60,
     "metadata": {},
     "output_type": "execute_result"
    }
   ],
   "source": [
    "#find the sum\n",
    "torch.sum(x),x.sum()"
   ]
  },
  {
   "cell_type": "markdown",
   "id": "a568a326",
   "metadata": {},
   "source": [
    "#### Find the posistional min and max"
   ]
  },
  {
   "cell_type": "code",
   "execution_count": 61,
   "id": "d47cb93e",
   "metadata": {},
   "outputs": [
    {
     "name": "stdout",
     "output_type": "stream",
     "text": [
      "tensor([ 1, 11, 21, 31, 41, 51, 61, 71, 81, 91])\n"
     ]
    }
   ],
   "source": [
    "print(x)"
   ]
  },
  {
   "cell_type": "code",
   "execution_count": 62,
   "id": "fb05de14",
   "metadata": {},
   "outputs": [
    {
     "data": {
      "text/plain": [
       "(tensor(9), tensor(9))"
      ]
     },
     "execution_count": 62,
     "metadata": {},
     "output_type": "execute_result"
    }
   ],
   "source": [
    "#find the index of max element\n",
    "torch.argmax(x),x.argmax()"
   ]
  },
  {
   "cell_type": "code",
   "execution_count": 63,
   "id": "85304d19",
   "metadata": {},
   "outputs": [
    {
     "data": {
      "text/plain": [
       "(tensor(0), tensor(0))"
      ]
     },
     "execution_count": 63,
     "metadata": {},
     "output_type": "execute_result"
    }
   ],
   "source": [
    "#find the index of min element\n",
    "torch.argmin(x),x.argmin()"
   ]
  },
  {
   "cell_type": "code",
   "execution_count": 64,
   "id": "a8457d6c",
   "metadata": {},
   "outputs": [
    {
     "name": "stdout",
     "output_type": "stream",
     "text": [
      "minmum element in x: 1\n",
      "maximum elememnt in x: 91\n"
     ]
    }
   ],
   "source": [
    "print(f\"minmum element in x: {x[torch.argmin(x)].item()}\")\n",
    "print(f\"maximum elememnt in x: {x[torch.argmax(x)].item()}\")"
   ]
  },
  {
   "cell_type": "markdown",
   "id": "1b1b7161",
   "metadata": {},
   "source": [
    "### Reshaping, stacking, squeezing and unsqueezing tensors\n",
    "\n",
    "* Reshaping - Reshapes an input tensor to defined shape.\n",
    "* View - Return a view of an input tensor of certain shape but keep the same memory as the original tensor.\n",
    "* Stacking - Combine multiple tensors on top of each other (vstack) or side by side (hstack).\n",
    "* Squeeze - Removes all `1` dimensions from a tensor.\n",
    "* Unsqueeze - Add a `1` dimension to a target tensor.\n",
    "* Permute - Return  a view of the input with dimensions permuted (swapped) in a certain way.\n",
    "\n",
    "These are all useful to fix tensor issues."
   ]
  },
  {
   "cell_type": "markdown",
   "id": "f52e1769",
   "metadata": {},
   "source": [
    "Why do any of these?\n",
    "Because deep learning models (neural networks) are all about manipulation tensors in some way. And because of the rules of matrix multiplication, if you've got shape mismatches, you'll run into errors. These methods help you make sure the right elements of your tensors are mixing with the right elements of other tensors.\n",
    "\n",
    "Let's try them out.\n",
    "\n",
    "First, we'll create a tensor."
   ]
  },
  {
   "cell_type": "code",
   "execution_count": 2,
   "id": "662df879",
   "metadata": {},
   "outputs": [
    {
     "data": {
      "text/plain": [
       "(tensor([1., 2., 3., 4., 5., 6., 7., 8., 9.]), torch.Size([9]))"
      ]
     },
     "execution_count": 2,
     "metadata": {},
     "output_type": "execute_result"
    }
   ],
   "source": [
    "#Let's create a tensor\n",
    "import torch\n",
    "x = torch.arange(1.,10.)\n",
    "x,x.shape"
   ]
  },
  {
   "cell_type": "code",
   "execution_count": 3,
   "id": "b36e3931",
   "metadata": {},
   "outputs": [
    {
     "ename": "RuntimeError",
     "evalue": "shape '[2, 7]' is invalid for input of size 9",
     "output_type": "error",
     "traceback": [
      "\u001b[1;31m---------------------------------------------------------------------------\u001b[0m",
      "\u001b[1;31mRuntimeError\u001b[0m                              Traceback (most recent call last)",
      "Cell \u001b[1;32mIn[3], line 2\u001b[0m\n\u001b[0;32m      1\u001b[0m \u001b[38;5;66;03m#Add an extra dimension\u001b[39;00m\n\u001b[1;32m----> 2\u001b[0m x_reshaped \u001b[38;5;241m=\u001b[39m \u001b[43mx\u001b[49m\u001b[38;5;241;43m.\u001b[39;49m\u001b[43mreshape\u001b[49m\u001b[43m(\u001b[49m\u001b[38;5;241;43m2\u001b[39;49m\u001b[43m,\u001b[49m\u001b[38;5;241;43m7\u001b[39;49m\u001b[43m)\u001b[49m\u001b[38;5;66;03m# shape error\u001b[39;00m\n\u001b[0;32m      3\u001b[0m x_reshaped,x_reshaped\u001b[38;5;241m.\u001b[39mshape\n",
      "\u001b[1;31mRuntimeError\u001b[0m: shape '[2, 7]' is invalid for input of size 9"
     ]
    }
   ],
   "source": [
    "#Add an extra dimension\n",
    "x_reshaped = x.reshape(2,7)# shape error\n",
    "x_reshaped,x_reshaped.shape"
   ]
  },
  {
   "cell_type": "code",
   "execution_count": 4,
   "id": "4cecb79c",
   "metadata": {},
   "outputs": [
    {
     "data": {
      "text/plain": [
       "(tensor([[1.],\n",
       "         [2.],\n",
       "         [3.],\n",
       "         [4.],\n",
       "         [5.],\n",
       "         [6.],\n",
       "         [7.],\n",
       "         [8.],\n",
       "         [9.]]),\n",
       " torch.Size([9, 1]))"
      ]
     },
     "execution_count": 4,
     "metadata": {},
     "output_type": "execute_result"
    }
   ],
   "source": [
    "x_reshaped = x.reshape(9,1) #think in factors way. Others wise get error.\n",
    "x_reshaped,x_reshaped.shape"
   ]
  },
  {
   "cell_type": "code",
   "execution_count": 5,
   "id": "01440c94",
   "metadata": {},
   "outputs": [
    {
     "data": {
      "text/plain": [
       "(tensor([[1., 2., 3., 4., 5., 6., 7., 8., 9.]]), torch.Size([1, 9]))"
      ]
     },
     "execution_count": 5,
     "metadata": {},
     "output_type": "execute_result"
    }
   ],
   "source": [
    "x_reshaped = x.reshape(1,9)\n",
    "x_reshaped,x_reshaped.shape"
   ]
  },
  {
   "cell_type": "code",
   "execution_count": 6,
   "id": "3bc0c598",
   "metadata": {},
   "outputs": [
    {
     "data": {
      "text/plain": [
       "(tensor([[1., 2., 3.],\n",
       "         [4., 5., 6.],\n",
       "         [7., 8., 9.]]),\n",
       " torch.Size([3, 3]))"
      ]
     },
     "execution_count": 6,
     "metadata": {},
     "output_type": "execute_result"
    }
   ],
   "source": [
    "x_reshaped = x.reshape(3,3)\n",
    "x_reshaped,x_reshaped.shape"
   ]
  },
  {
   "cell_type": "code",
   "execution_count": 7,
   "id": "7388140f",
   "metadata": {},
   "outputs": [
    {
     "data": {
      "text/plain": [
       "(tensor([[1., 2., 3., 4., 5., 6., 7., 8., 9.]]), torch.Size([1, 9]))"
      ]
     },
     "execution_count": 7,
     "metadata": {},
     "output_type": "execute_result"
    }
   ],
   "source": [
    "#Change the view\n",
    "z = x.view(1,9)\n",
    "z,z.shape"
   ]
  },
  {
   "cell_type": "code",
   "execution_count": 8,
   "id": "c1bfb583",
   "metadata": {},
   "outputs": [
    {
     "data": {
      "text/plain": [
       "(tensor([[5., 2., 3., 4., 5., 6., 7., 8., 9.]]),\n",
       " tensor([5., 2., 3., 4., 5., 6., 7., 8., 9.]))"
      ]
     },
     "execution_count": 8,
     "metadata": {},
     "output_type": "execute_result"
    }
   ],
   "source": [
    "#Changing z changes x (because a view of a tensor shares the same memory as the original input) aka mutable.\n",
    "z[:,0]=5\n",
    "z,x"
   ]
  },
  {
   "cell_type": "code",
   "execution_count": 9,
   "id": "2b9fa7d4",
   "metadata": {},
   "outputs": [
    {
     "data": {
      "text/plain": [
       "tensor([[5., 5., 5., 5.],\n",
       "        [2., 2., 2., 2.],\n",
       "        [3., 3., 3., 3.],\n",
       "        [4., 4., 4., 4.],\n",
       "        [5., 5., 5., 5.],\n",
       "        [6., 6., 6., 6.],\n",
       "        [7., 7., 7., 7.],\n",
       "        [8., 8., 8., 8.],\n",
       "        [9., 9., 9., 9.]])"
      ]
     },
     "execution_count": 9,
     "metadata": {},
     "output_type": "execute_result"
    }
   ],
   "source": [
    "# Stack tensors on top of tensors\n",
    "x_stacked = torch.stack([x,x,x,x],dim=1) #dim=1, dim=0\n",
    "x_stacked"
   ]
  },
  {
   "cell_type": "markdown",
   "id": "14517656",
   "metadata": {},
   "source": [
    "`torch.squeeze(input)` Squeezes `input` to remove all the dimensions with value 1. "
   ]
  },
  {
   "cell_type": "code",
   "execution_count": null,
   "id": "ab9965ea",
   "metadata": {},
   "outputs": [
    {
     "data": {
      "text/plain": [
       "tensor([[5., 2., 3.],\n",
       "        [4., 5., 6.],\n",
       "        [7., 8., 9.]])"
      ]
     },
     "execution_count": 10,
     "metadata": {},
     "output_type": "execute_result"
    }
   ],
   "source": [
    "#torch.squeeze() - remove all single dimensions from a target tensor.\n",
    "x_reshaped"
   ]
  },
  {
   "cell_type": "code",
   "execution_count": null,
   "id": "16651f01",
   "metadata": {},
   "outputs": [
    {
     "name": "stdout",
     "output_type": "stream",
     "text": [
      "Previous tensor: tensor([[5., 2., 3.],\n",
      "        [4., 5., 6.],\n",
      "        [7., 8., 9.]])\n",
      "Previous shape: torch.Size([3, 3])\n",
      "\n",
      "New tensor: tensor([[5., 2., 3.],\n",
      "        [4., 5., 6.],\n",
      "        [7., 8., 9.]])\n",
      "New shape: torch.Size([3, 3])\n"
     ]
    }
   ],
   "source": [
    "#torch.squeeze() - removes all single dimensions from a target tensor.\n",
    "print(f\"Previous tensor: {x_reshaped}\")\n",
    "print(f\"Previous shape: {x_reshaped.shape}\")\n",
    "\n",
    "#Remove extra dimensions from x_reshaped\n",
    "x_squeezed = x_reshaped.squeeze()\n",
    "print(f\"\\nNew tensor: {x_squeezed}\")\n",
    "print(f\"New shape: {x_squeezed.shape}\")"
   ]
  },
  {
   "cell_type": "code",
   "execution_count": null,
   "id": "1ff0576e",
   "metadata": {},
   "outputs": [
    {
     "name": "stdout",
     "output_type": "stream",
     "text": [
      "Previous target: tensor([[5., 2., 3.],\n",
      "        [4., 5., 6.],\n",
      "        [7., 8., 9.]])\n",
      "Previous shape: torch.Size([3, 3])\n",
      "\n",
      "New tensor: tensor([[[5., 2., 3.],\n",
      "         [4., 5., 6.],\n",
      "         [7., 8., 9.]]])\n",
      "New shape: torch.Size([1, 3, 3])\n"
     ]
    }
   ],
   "source": [
    "#torch.unsqueeze() - adds a single dimension to a target tensor at a specific dim(dimension)\n",
    "print(f\"Previous target: {x_squeezed}\")\n",
    "print(f\"Previous shape: {x_squeezed.shape}\")\n",
    "\n",
    "#Add an extra dimension with unsqueeze\n",
    "x_unsqueezed = x_squeezed.unsqueeze(dim=0)\n",
    "print(f\"\\nNew tensor: {x_unsqueezed}\")\n",
    "print(f\"New shape: {x_unsqueezed.shape}\")"
   ]
  },
  {
   "cell_type": "code",
   "execution_count": null,
   "id": "0705f8a1",
   "metadata": {},
   "outputs": [
    {
     "data": {
      "text/plain": [
       "torch.Size([3, 3])"
      ]
     },
     "execution_count": 13,
     "metadata": {},
     "output_type": "execute_result"
    }
   ],
   "source": [
    "x_reshaped.shape"
   ]
  },
  {
   "cell_type": "code",
   "execution_count": null,
   "id": "7d0a1e7d",
   "metadata": {},
   "outputs": [
    {
     "data": {
      "text/plain": [
       "tensor([[5., 2., 3.],\n",
       "        [4., 5., 6.],\n",
       "        [7., 8., 9.]])"
      ]
     },
     "execution_count": 14,
     "metadata": {},
     "output_type": "execute_result"
    }
   ],
   "source": [
    "x_reshaped.squeeze()"
   ]
  },
  {
   "cell_type": "code",
   "execution_count": null,
   "id": "a4cf0e17",
   "metadata": {},
   "outputs": [
    {
     "data": {
      "text/plain": [
       "torch.Size([3, 3])"
      ]
     },
     "execution_count": 15,
     "metadata": {},
     "output_type": "execute_result"
    }
   ],
   "source": [
    "x_reshaped.squeeze().shape"
   ]
  },
  {
   "cell_type": "code",
   "execution_count": null,
   "id": "79ef968c",
   "metadata": {},
   "outputs": [
    {
     "name": "stdout",
     "output_type": "stream",
     "text": [
      "Previous shape: torch.Size([224, 224, 3])\n",
      "New shape: torch.Size([3, 224, 224])\n"
     ]
    }
   ],
   "source": [
    "# torch.permute - rearranges the dimensions of a target tensor in a specified order\n",
    "x_original = torch.rand(size=(224,224,3)) #[height,width,color_channels # the dimensions counted from 0\n",
    "#we have 3 dimensions here 224,224,3 so it becomes 0,1,2\n",
    "\n",
    "# Permute the original tensor to rearrange the axis (or dim) order.\n",
    "x_permuted = x_original.permute(2,0,1) #shifts axis 0->1, 1->2, 2->0\n",
    "\n",
    "print(f\"Previous shape: {x_original.shape}\")\n",
    "print(f\"New shape: {x_permuted.shape}\")# [color_channels, height, width]"
   ]
  },
  {
   "cell_type": "code",
   "execution_count": null,
   "id": "c786e681",
   "metadata": {},
   "outputs": [
    {
     "name": "stdout",
     "output_type": "stream",
     "text": [
      "tensor([[[2.3094e+05, 5.0889e-01, 5.8530e-01],\n",
      "         [1.7348e-01, 9.5342e-01, 7.4408e-01],\n",
      "         [4.1048e-01, 2.4209e-01, 4.6233e-01],\n",
      "         ...,\n",
      "         [5.2864e-01, 3.7559e-01, 5.0635e-01],\n",
      "         [2.6533e-02, 9.5046e-01, 8.1433e-01],\n",
      "         [7.2038e-01, 3.0871e-01, 9.5890e-01]],\n",
      "\n",
      "        [[9.1616e-01, 8.3540e-01, 6.9949e-01],\n",
      "         [9.5810e-01, 7.3440e-01, 9.7432e-01],\n",
      "         [3.3344e-01, 4.7178e-01, 3.9595e-01],\n",
      "         ...,\n",
      "         [9.8824e-01, 8.5818e-02, 7.1709e-01],\n",
      "         [4.8343e-02, 5.5665e-01, 9.9558e-01],\n",
      "         [6.2684e-01, 3.9626e-01, 2.6743e-01]],\n",
      "\n",
      "        [[8.3327e-01, 6.3802e-01, 2.7520e-02],\n",
      "         [5.9913e-01, 2.6958e-01, 8.4740e-01],\n",
      "         [7.6398e-01, 6.7103e-01, 2.8693e-02],\n",
      "         ...,\n",
      "         [9.8376e-02, 3.8695e-01, 2.2484e-01],\n",
      "         [9.6326e-01, 7.4155e-01, 5.6390e-01],\n",
      "         [5.0211e-02, 3.1871e-01, 3.2404e-01]],\n",
      "\n",
      "        ...,\n",
      "\n",
      "        [[2.6600e-01, 9.9707e-01, 6.7196e-01],\n",
      "         [7.4936e-01, 4.4237e-01, 1.6388e-01],\n",
      "         [2.9361e-01, 4.1413e-01, 6.0228e-01],\n",
      "         ...,\n",
      "         [7.2722e-02, 5.2374e-01, 6.1943e-01],\n",
      "         [8.2554e-02, 2.2341e-02, 9.4232e-01],\n",
      "         [5.0536e-01, 5.9473e-01, 2.5701e-01]],\n",
      "\n",
      "        [[5.6499e-02, 6.2737e-01, 8.2117e-01],\n",
      "         [9.7305e-01, 7.3893e-01, 8.4865e-01],\n",
      "         [5.5023e-01, 3.2185e-01, 5.3068e-01],\n",
      "         ...,\n",
      "         [4.2520e-01, 5.4301e-01, 3.6798e-01],\n",
      "         [8.3373e-01, 1.4652e-01, 8.8123e-01],\n",
      "         [2.9165e-01, 4.5570e-01, 3.7785e-02]],\n",
      "\n",
      "        [[1.4659e-01, 8.0123e-01, 4.6725e-01],\n",
      "         [9.6041e-01, 8.1988e-01, 8.2032e-01],\n",
      "         [8.8071e-01, 5.1598e-01, 7.6029e-01],\n",
      "         ...,\n",
      "         [1.1386e-01, 4.3822e-01, 6.6890e-01],\n",
      "         [4.8517e-01, 6.0748e-01, 1.3309e-01],\n",
      "         [4.0284e-01, 4.1255e-01, 9.3490e-01]]])\n"
     ]
    }
   ],
   "source": [
    "x_original[0,0,0] = 230943\n",
    "print(x_original)"
   ]
  },
  {
   "cell_type": "code",
   "execution_count": null,
   "id": "fa03f5de",
   "metadata": {},
   "outputs": [
    {
     "data": {
      "text/plain": [
       "(tensor(230943.), tensor(230943.))"
      ]
     },
     "execution_count": 18,
     "metadata": {},
     "output_type": "execute_result"
    }
   ],
   "source": [
    "x_original[0,0,0],x_permuted[0,0,0] # permute use view(), and view() shares the same memory if we use view() or permute() it can affect the original data."
   ]
  },
  {
   "cell_type": "markdown",
   "id": "485b7b92",
   "metadata": {},
   "source": [
    "### Indexing (selecting data from tensors)\n",
    "Indexing with PyTorch is similar to indexing with NumPy."
   ]
  },
  {
   "cell_type": "code",
   "execution_count": 11,
   "id": "78fd2d84",
   "metadata": {},
   "outputs": [
    {
     "data": {
      "text/plain": [
       "(tensor([[[1, 2, 3],\n",
       "          [4, 5, 6],\n",
       "          [7, 8, 9]]]),\n",
       " torch.Size([1, 3, 3]))"
      ]
     },
     "execution_count": 11,
     "metadata": {},
     "output_type": "execute_result"
    }
   ],
   "source": [
    "# Create a tensor\n",
    "import torch\n",
    "x = torch.arange(1,10).reshape(1,3,3)\n",
    "x,x.shape\n"
   ]
  },
  {
   "cell_type": "code",
   "execution_count": 12,
   "id": "f968a655",
   "metadata": {},
   "outputs": [
    {
     "data": {
      "text/plain": [
       "tensor([[1, 2, 3],\n",
       "        [4, 5, 6],\n",
       "        [7, 8, 9]])"
      ]
     },
     "execution_count": 12,
     "metadata": {},
     "output_type": "execute_result"
    }
   ],
   "source": [
    "#Let's index on our new tensor\n",
    "x[0]"
   ]
  },
  {
   "cell_type": "code",
   "execution_count": null,
   "id": "ec39d910",
   "metadata": {},
   "outputs": [
    {
     "data": {
      "text/plain": [
       "tensor([1, 2, 3])"
      ]
     },
     "execution_count": 16,
     "metadata": {},
     "output_type": "execute_result"
    }
   ],
   "source": [
    "#Let's index on the middle bracket (dim=1)\n",
    "x[0][0]\n"
   ]
  },
  {
   "cell_type": "code",
   "execution_count": null,
   "id": "6045f6cf",
   "metadata": {},
   "outputs": [
    {
     "data": {
      "text/plain": [
       "tensor(1)"
      ]
     },
     "execution_count": 20,
     "metadata": {},
     "output_type": "execute_result"
    }
   ],
   "source": [
    "#Let's index on the most inner bracket (last dimension)\n",
    "x[0][0][0]"
   ]
  },
  {
   "cell_type": "code",
   "execution_count": null,
   "id": "fd460347",
   "metadata": {},
   "outputs": [
    {
     "data": {
      "text/plain": [
       "tensor(9)"
      ]
     },
     "execution_count": 21,
     "metadata": {},
     "output_type": "execute_result"
    }
   ],
   "source": [
    "x[0][2][2]"
   ]
  },
  {
   "cell_type": "code",
   "execution_count": null,
   "id": "12a02ef6",
   "metadata": {},
   "outputs": [
    {
     "name": "stdout",
     "output_type": "stream",
     "text": [
      "tensor([1, 2, 3])\n",
      "tensor([[1, 2, 3]])\n"
     ]
    }
   ],
   "source": [
    "print(x[0][0])\n",
    "print(x[:,0])"
   ]
  },
  {
   "cell_type": "code",
   "execution_count": null,
   "id": "f92326a9",
   "metadata": {},
   "outputs": [
    {
     "data": {
      "text/plain": [
       "tensor([[1, 2, 3]])"
      ]
     },
     "execution_count": 24,
     "metadata": {},
     "output_type": "execute_result"
    }
   ],
   "source": [
    "#We can also use \":\" to select \"all\" of a target dimension\n",
    "x[:,0]"
   ]
  },
  {
   "cell_type": "code",
   "execution_count": null,
   "id": "3caf5ff3",
   "metadata": {},
   "outputs": [
    {
     "data": {
      "text/plain": [
       "tensor([[2, 5, 8]])"
      ]
     },
     "execution_count": 25,
     "metadata": {},
     "output_type": "execute_result"
    }
   ],
   "source": [
    "#Get all values of 0th and 1st dimensions but only index 1 of 2nd dimension\n",
    "x[:,:,1]"
   ]
  },
  {
   "cell_type": "code",
   "execution_count": null,
   "id": "f5e82338",
   "metadata": {},
   "outputs": [
    {
     "data": {
      "text/plain": [
       "tensor([5])"
      ]
     },
     "execution_count": 31,
     "metadata": {},
     "output_type": "execute_result"
    }
   ],
   "source": [
    "#Get all values of the 0 dimension but only the 1 index value of 1st and 2nd dimension\n",
    "x[:,1,1]"
   ]
  },
  {
   "cell_type": "code",
   "execution_count": 13,
   "id": "3689ae05",
   "metadata": {},
   "outputs": [
    {
     "data": {
      "text/plain": [
       "tensor([1, 2, 3])"
      ]
     },
     "execution_count": 13,
     "metadata": {},
     "output_type": "execute_result"
    }
   ],
   "source": [
    "#Get index 0 of 0th and 1st dimension and all values of 2nd dimensions\n",
    "x[0,0,:]"
   ]
  },
  {
   "cell_type": "code",
   "execution_count": null,
   "id": "bafdea7e",
   "metadata": {},
   "outputs": [
    {
     "data": {
      "text/plain": [
       "(tensor(9), tensor([9]))"
      ]
     },
     "execution_count": 36,
     "metadata": {},
     "output_type": "execute_result"
    }
   ],
   "source": [
    "x[0,2,2],x[:,2,2]"
   ]
  },
  {
   "cell_type": "code",
   "execution_count": null,
   "id": "a86818c6",
   "metadata": {},
   "outputs": [
    {
     "data": {
      "text/plain": [
       "(tensor([3, 6, 9]), tensor([[3, 6, 9]]))"
      ]
     },
     "execution_count": 40,
     "metadata": {},
     "output_type": "execute_result"
    }
   ],
   "source": [
    "x[0,:,2],x[:,:,2]"
   ]
  },
  {
   "cell_type": "markdown",
   "id": "87b32356",
   "metadata": {},
   "source": [
    "### PyTorch tensor & NumPy\n",
    "Numpy is a popular scientific Python numerical computing library and because of this, PyTorch has functionality to intract with it.\n",
    "* Data in NumPy, want in PyTorch tensor -> torch.from_numpy(ndarray)\n",
    "* PyTorch tensor -> NumPy -> torch.Tensro.numpy()"
   ]
  },
  {
   "cell_type": "code",
   "execution_count": null,
   "id": "5e30ae29",
   "metadata": {},
   "outputs": [
    {
     "data": {
      "text/plain": [
       "(array([1., 2., 3., 4., 5., 6., 7.]),\n",
       " tensor([1., 2., 3., 4., 5., 6., 7.], dtype=torch.float64))"
      ]
     },
     "execution_count": 1,
     "metadata": {},
     "output_type": "execute_result"
    }
   ],
   "source": [
    "import torch\n",
    "import numpy as np\n",
    "\n",
    "array = np.arange(1.0,8.0)\n",
    "#Warning: when converting from numpy -> pytorch, pytorch reflects numpy's default datatype of float64 unless specified otherwise.\n",
    "tensor = torch.from_numpy(array)\n",
    "array,tensor"
   ]
  },
  {
   "cell_type": "code",
   "execution_count": null,
   "id": "3bcfdffd",
   "metadata": {},
   "outputs": [
    {
     "data": {
      "text/plain": [
       "(dtype('float64'), torch.float32)"
      ]
     },
     "execution_count": 9,
     "metadata": {},
     "output_type": "execute_result"
    }
   ],
   "source": [
    "tensor = tensor.type(torch.float32)\n",
    "array.dtype,tensor.dtype"
   ]
  },
  {
   "cell_type": "code",
   "execution_count": null,
   "id": "47919264",
   "metadata": {},
   "outputs": [
    {
     "data": {
      "text/plain": [
       "(dtype('float64'), torch.float64)"
      ]
     },
     "execution_count": 5,
     "metadata": {},
     "output_type": "execute_result"
    }
   ],
   "source": [
    "array.dtype,tensor.dtype"
   ]
  },
  {
   "cell_type": "code",
   "execution_count": 14,
   "id": "cc989018",
   "metadata": {},
   "outputs": [
    {
     "data": {
      "text/plain": [
       "(array([-3.14159265, -3.13844949, -3.13530633, ...,  3.13530633,\n",
       "         3.13844949,  3.14159265]),\n",
       " array([-1.22464680e-16, -3.14315906e-03, -6.28628707e-03, ...,\n",
       "         6.28628707e-03,  3.14315906e-03,  1.22464680e-16]))"
      ]
     },
     "execution_count": 14,
     "metadata": {},
     "output_type": "execute_result"
    }
   ],
   "source": [
    "import numpy as np\n",
    "import math\n",
    "\n",
    "x = np.linspace(-math.pi,math.pi,2000)\n",
    "y = np.sin(x)\n",
    "\n",
    "x,y"
   ]
  },
  {
   "cell_type": "markdown",
   "id": "3b7b8742",
   "metadata": {},
   "source": [
    "### Reproducibility(trying to take random out of random)\n",
    "In short how a neural network learns:\n",
    "`start with random numbers -> tensor operations -> update random numbers to try and make them of the data -> again -> again -> again->`\n",
    "To reduce the randomness in the neural networks and PyTorch comes the concept of a random seed.\n",
    "Essentially what the random seed does is \"flavour\" the randomness."
   ]
  },
  {
   "cell_type": "code",
   "execution_count": null,
   "id": "fdbd2fae",
   "metadata": {},
   "outputs": [
    {
     "name": "stdout",
     "output_type": "stream",
     "text": [
      "tensor([[0.3259, 0.9306, 0.8459, 0.6560],\n",
      "        [0.1116, 0.9726, 0.5772, 0.4115],\n",
      "        [0.0010, 0.4364, 0.2394, 0.4546]])\n",
      "tensor([[0.0509, 0.6389, 0.2446, 0.3497],\n",
      "        [0.4615, 0.3588, 0.4226, 0.4283],\n",
      "        [0.8974, 0.5865, 0.3292, 0.9636]])\n",
      "tensor([[False, False, False, False],\n",
      "        [False, False, False, False],\n",
      "        [False, False, False, False]])\n"
     ]
    }
   ],
   "source": [
    "import torch\n",
    "#Creat two random tensors\n",
    "random_tensor_A = torch.rand(3,4)\n",
    "random_tensor_B = torch.rand(3,4)\n",
    "\n",
    "print(random_tensor_A)\n",
    "print(random_tensor_B)\n",
    "print(random_tensor_A==random_tensor_B)"
   ]
  },
  {
   "cell_type": "markdown",
   "id": "929e0866",
   "metadata": {},
   "source": [
    "Just as we might've expected, the tensors come out with different values.\n",
    "\n",
    "But what if we wanted to create two random tensors with the same values.\n",
    "\n",
    "As in, the tensors would still contain random values but they would be of the same flavour.\n",
    "\n",
    "That's where torch.manual_seed(seed) comes in, where seed is an integer (like 42 but it could be anything) that flavours the randomness.\n",
    "\n",
    "Let's try it out by creating some more flavoured random tensors."
   ]
  },
  {
   "cell_type": "code",
   "execution_count": null,
   "id": "bb2e817e",
   "metadata": {},
   "outputs": [
    {
     "name": "stdout",
     "output_type": "stream",
     "text": [
      "tensor([[0.8823, 0.9150, 0.3829, 0.9593],\n",
      "        [0.3904, 0.6009, 0.2566, 0.7936],\n",
      "        [0.9408, 0.1332, 0.9346, 0.5936]])\n",
      "tensor([[0.8823, 0.9150, 0.3829, 0.9593],\n",
      "        [0.3904, 0.6009, 0.2566, 0.7936],\n",
      "        [0.9408, 0.1332, 0.9346, 0.5936]])\n",
      "tensor([[True, True, True, True],\n",
      "        [True, True, True, True],\n",
      "        [True, True, True, True]])\n"
     ]
    }
   ],
   "source": [
    "#lets make some random but reproducable tensors\n",
    "#set the random seed.\n",
    "Random_seed = 42\n",
    "torch.manual_seed(Random_seed)\n",
    "random_tensor_C = torch.rand(3,4,device=\"cpu\")\n",
    "torch.manual_seed(Random_seed)\n",
    "random_tensor_D = torch.rand(3,4,device=\"cpu\")\n",
    "print(random_tensor_C)\n",
    "print(random_tensor_D)\n",
    "print(random_tensor_C==random_tensor_D)\n",
    "#All the random numbers can reproduce by random seed use torch.manual_seed before generating random tensor."
   ]
  },
  {
   "cell_type": "markdown",
   "id": "7dd3109b",
   "metadata": {},
   "source": [
    "\n",
    "Nice!\n",
    "\n",
    "It looks like setting the seed worked.\n",
    "\n",
    "Resource: What we've just covered only scratches the surface of reproducibility in PyTorch. For more, on reproducibility in general and random seeds, I'd checkout:\n",
    "\n",
    "[The PyTorch reproducibility documentation](https://pytorch.org/docs/stable/notes/randomness.html) (a good exercise would be to read through this for 10-minutes and even if you don't understand it now, being aware of it is important).\n",
    "[The Wikipedia random seed page](https://en.wikipedia.org/wiki/Random_seed) (this'll give a good overview of random seeds and pseudorandomness in general)."
   ]
  },
  {
   "cell_type": "code",
   "execution_count": null,
   "id": "a37b0d80",
   "metadata": {},
   "outputs": [
    {
     "name": "stdout",
     "output_type": "stream",
     "text": [
      "Fri Jun 27 16:04:50 2025       \n",
      "+-----------------------------------------------------------------------------------------+\n",
      "| NVIDIA-SMI 576.80                 Driver Version: 576.80         CUDA Version: 12.9     |\n",
      "|-----------------------------------------+------------------------+----------------------+\n",
      "| GPU  Name                  Driver-Model | Bus-Id          Disp.A | Volatile Uncorr. ECC |\n",
      "| Fan  Temp   Perf          Pwr:Usage/Cap |           Memory-Usage | GPU-Util  Compute M. |\n",
      "|                                         |                        |               MIG M. |\n",
      "|=========================================+========================+======================|\n",
      "|   0  NVIDIA GeForce RTX 2050      WDDM  |   00000000:01:00.0 Off |                  N/A |\n",
      "| N/A   47C    P0              8W /   33W |       0MiB /   4096MiB |      0%      Default |\n",
      "|                                         |                        |                  N/A |\n",
      "+-----------------------------------------+------------------------+----------------------+\n",
      "                                                                                         \n",
      "+-----------------------------------------------------------------------------------------+\n",
      "| Processes:                                                                              |\n",
      "|  GPU   GI   CI              PID   Type   Process name                        GPU Memory |\n",
      "|        ID   ID                                                               Usage      |\n",
      "|=========================================================================================|\n",
      "|  No running processes found                                                             |\n",
      "+-----------------------------------------------------------------------------------------+\n"
     ]
    }
   ],
   "source": [
    "!nvidia-smi"
   ]
  },
  {
   "cell_type": "code",
   "execution_count": null,
   "id": "8f4e079e",
   "metadata": {},
   "outputs": [
    {
     "data": {
      "text/plain": [
       "1"
      ]
     },
     "execution_count": 4,
     "metadata": {},
     "output_type": "execute_result"
    }
   ],
   "source": [
    "torch.cuda.device_count()"
   ]
  },
  {
   "cell_type": "markdown",
   "id": "bdb950b6",
   "metadata": {},
   "source": [
    "## Running tensors and PyTorch on the GPUs (and making faster computations)\n",
    "GPUs = faster computation on numbers, thanks to CUDA(Nvidia hardware) + Pytorch working behind the scenes to make everything honky dory(good).\n",
    "\n",
    "To work with GPU we have three options:\n",
    "\n",
    "|Platform         |Iniial setup |Cost             |\n",
    "|-----------------|-------------|-----------------|\n",
    "|Google Colab     |Easy         |Freemium         |\n",
    "|Own Dedicated GPU|Medium       |One time purchase|\n",
    "|Cloud            |Medium       |Expensive        |\n",
    "\n",
    "For PyTorch its capable of running on the GPU or CPU, its best practice to setup device agnostic code:\n",
    "[Doumentaion for best practice.](https://docs.pytorch.org/docs/stable/notes/cuda.html#best-practices)\n",
    "\n",
    "Example: Run on GPU if available, else default to CPU."
   ]
  },
  {
   "cell_type": "code",
   "execution_count": null,
   "id": "dfa7de74",
   "metadata": {},
   "outputs": [],
   "source": [
    "#Setup device for Agnostic Code(if GPU available runs on GPU else runs on CPU)\n",
    "device = 'cuda' if torch.cuda.is_available() else 'cpu'"
   ]
  },
  {
   "cell_type": "code",
   "execution_count": null,
   "id": "01e6da29",
   "metadata": {},
   "outputs": [],
   "source": [
    "tensor = torch.tensor([1,2,3])\n",
    "tensor_on_gpu = tensor.to(device)"
   ]
  },
  {
   "cell_type": "markdown",
   "id": "af0f1eff",
   "metadata": {},
   "source": [
    "### Moving tensors back to the CPU"
   ]
  },
  {
   "cell_type": "code",
   "execution_count": null,
   "id": "8d0f1fe0",
   "metadata": {},
   "outputs": [
    {
     "ename": "TypeError",
     "evalue": "can't convert cuda:0 device type tensor to numpy. Use Tensor.cpu() to copy the tensor to host memory first.",
     "output_type": "error",
     "traceback": [
      "\u001b[1;31m---------------------------------------------------------------------------\u001b[0m",
      "\u001b[1;31mTypeError\u001b[0m                                 Traceback (most recent call last)",
      "Cell \u001b[1;32mIn[7], line 2\u001b[0m\n\u001b[0;32m      1\u001b[0m \u001b[38;5;66;03m#If tensors on GPU, can't transform to NumPy.\u001b[39;00m\n\u001b[1;32m----> 2\u001b[0m \u001b[43mtensor_on_gpu\u001b[49m\u001b[38;5;241;43m.\u001b[39;49m\u001b[43mnumpy\u001b[49m\u001b[43m(\u001b[49m\u001b[43m)\u001b[49m\n",
      "\u001b[1;31mTypeError\u001b[0m: can't convert cuda:0 device type tensor to numpy. Use Tensor.cpu() to copy the tensor to host memory first."
     ]
    }
   ],
   "source": [
    "#If tensors on GPU, can't transform to NumPy.\n",
    "tensor_on_gpu.numpy()"
   ]
  },
  {
   "cell_type": "code",
   "execution_count": null,
   "id": "ef5eea35",
   "metadata": {},
   "outputs": [
    {
     "name": "stdout",
     "output_type": "stream",
     "text": [
      "[1 2 3]\n"
     ]
    }
   ],
   "source": [
    "tensors_back_on_cpu = tensor_on_gpu.cpu().numpy()\n",
    "print(tensors_back_on_cpu)\n"
   ]
  }
 ],
 "metadata": {
  "kernelspec": {
   "display_name": "Python 3",
   "language": "python",
   "name": "python3"
  },
  "language_info": {
   "codemirror_mode": {
    "name": "ipython",
    "version": 3
   },
   "file_extension": ".py",
   "mimetype": "text/x-python",
   "name": "python",
   "nbconvert_exporter": "python",
   "pygments_lexer": "ipython3",
   "version": "3.12.3"
  }
 },
 "nbformat": 4,
 "nbformat_minor": 5
}
