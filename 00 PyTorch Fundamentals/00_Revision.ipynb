{
 "cells": [
  {
   "cell_type": "markdown",
   "id": "684447d6",
   "metadata": {},
   "source": [
    "### 1. Read Documention of [torch.tensor](https://docs.pytorch.org/docs/stable/tensors.html#torch-tensor) and [torch.cuda](https://docs.pytorch.org/docs/stable/cuda.html#module-torch.cuda)"
   ]
  },
  {
   "cell_type": "markdown",
   "id": "457eab47",
   "metadata": {},
   "source": [
    "### 2. Create a random tensor with shape (7, 7)."
   ]
  },
  {
   "cell_type": "code",
   "execution_count": null,
   "id": "2facdcad",
   "metadata": {},
   "outputs": [
    {
     "data": {
      "text/plain": [
       "(tensor([[0.5600, 0.3772, 0.0015, 0.1387, 0.3394, 0.6116, 0.8483],\n",
       "         [0.0759, 0.3035, 0.3075, 0.1199, 0.1108, 0.4528, 0.6958],\n",
       "         [0.0155, 0.6441, 0.3056, 0.7306, 0.5607, 0.3553, 0.3286],\n",
       "         [0.9932, 0.0524, 0.9683, 0.1408, 0.8828, 0.8016, 0.7896],\n",
       "         [0.0997, 0.5600, 0.7954, 0.2554, 0.5546, 0.0351, 0.2311],\n",
       "         [0.7344, 0.6030, 0.7216, 0.3996, 0.3997, 0.8241, 0.6125],\n",
       "         [0.9665, 0.2451, 0.5411, 0.8686, 0.2132, 0.5532, 0.6511]]),\n",
       " torch.Size([7, 7]),\n",
       " 2)"
      ]
     },
     "execution_count": 33,
     "metadata": {},
     "output_type": "execute_result"
    }
   ],
   "source": [
    "import torch\n",
    "TENSOR0 = torch.rand(size=[7,7],device='cpu')\n",
    "TENSOR0,TENSOR0.shape,TENSOR0.ndim"
   ]
  },
  {
   "cell_type": "markdown",
   "id": "44154510",
   "metadata": {},
   "source": [
    "### 3. Perform a matrix multiplication on the tensor from 2 with another random tensor with shape (1, 7) (hint: you may have to transpose the second tensor)."
   ]
  },
  {
   "cell_type": "code",
   "execution_count": null,
   "id": "c80cdbcb",
   "metadata": {},
   "outputs": [
    {
     "data": {
      "text/plain": [
       "tensor([[2.0862],\n",
       "        [1.5783],\n",
       "        [1.7206],\n",
       "        [3.0786],\n",
       "        [1.3690],\n",
       "        [2.9736],\n",
       "        [2.9069]])"
      ]
     },
     "execution_count": 34,
     "metadata": {},
     "output_type": "execute_result"
    }
   ],
   "source": [
    "TENSOR1 = torch.rand(size=[1,7])\n",
    "tensor_matmul = torch.matmul(TENSOR0,TENSOR1.T)\n",
    "tensor_matmul"
   ]
  },
  {
   "cell_type": "markdown",
   "id": "f2719c10",
   "metadata": {},
   "source": [
    "### 4. Set the random seed to 0 and do 2 & 3 over again."
   ]
  },
  {
   "cell_type": "code",
   "execution_count": null,
   "id": "3ac80691",
   "metadata": {},
   "outputs": [
    {
     "name": "stdout",
     "output_type": "stream",
     "text": [
      "tensor([[1.8542],\n",
      "        [1.9611],\n",
      "        [2.2884],\n",
      "        [3.0481],\n",
      "        [1.7067],\n",
      "        [2.5290],\n",
      "        [1.7989]])\n"
     ]
    }
   ],
   "source": [
    "\n",
    "torch.manual_seed(0)\n",
    "tensor1 = torch.rand([7,7])\n",
    "tensor2 = torch.rand([1,7])\n",
    "tensor3 = torch.matmul(tensor1,tensor2.T)\n",
    "print(tensor3)"
   ]
  },
  {
   "cell_type": "markdown",
   "id": "31cec7d0",
   "metadata": {},
   "source": [
    "### 5 Speaking of random seeds, we saw how to set it with torch.manual_seed() but is there a GPU equivalent? (hint: you'll need to look into the documentation for torch.cuda for this one)"
   ]
  },
  {
   "cell_type": "code",
   "execution_count": 68,
   "id": "a69d5425",
   "metadata": {},
   "outputs": [],
   "source": [
    "torch.cuda.manual_seed(1234)"
   ]
  },
  {
   "cell_type": "markdown",
   "id": "91e4c82a",
   "metadata": {},
   "source": [
    "### 6. Create two random tensors of shape (2, 3) and send them both to the GPU (you'll need access to a GPU for this). Set torch.manual_seed(1234) when creating the tensors (this doesn't have to be the GPU random seed)."
   ]
  },
  {
   "cell_type": "code",
   "execution_count": 73,
   "id": "73f7cfa1",
   "metadata": {},
   "outputs": [
    {
     "data": {
      "text/plain": [
       "(tensor([[0.1272, 0.8167, 0.5440],\n",
       "         [0.6601, 0.2721, 0.9737]], device='cuda:0'),\n",
       " tensor([[0.6208, 0.0276, 0.3255],\n",
       "         [0.1114, 0.6812, 0.3608]], device='cuda:0'),\n",
       " tensor([[0.2786, 0.7668],\n",
       "         [0.7343, 0.6102]], device='cuda:0'))"
      ]
     },
     "execution_count": 73,
     "metadata": {},
     "output_type": "execute_result"
    }
   ],
   "source": [
    "tensor1 = torch.rand([2,3],device='cuda')\n",
    "tensor2 = torch.rand([2,3],device='cuda')\n",
    "torch.manual_seed(1234)\n",
    "tensor3 = torch.matmul(tensor1,tensor2.T)\n",
    "tensor1,tensor2,tensor3"
   ]
  },
  {
   "cell_type": "markdown",
   "id": "ff85c4a8",
   "metadata": {},
   "source": [
    "### 7. Perform a matrix multiplication on the tensors you created in 6 (again, you may have to adjust the shapes of one of the tensors)."
   ]
  },
  {
   "cell_type": "code",
   "execution_count": 75,
   "id": "4bf4f463",
   "metadata": {},
   "outputs": [
    {
     "data": {
      "text/plain": [
       "(tensor([[0.7154, 0.2908],\n",
       "         [1.1616, 0.3998]], device='cuda:0'),\n",
       " torch.Size([2, 2]))"
      ]
     },
     "execution_count": 75,
     "metadata": {},
     "output_type": "execute_result"
    }
   ],
   "source": [
    "tensor2 = torch.reshape(tensor2,[3,2])\n",
    "tensor3 = torch.matmul(tensor1,tensor2)\n",
    "tensor3,tensor3.shape"
   ]
  },
  {
   "cell_type": "code",
   "execution_count": 77,
   "id": "d4ee612f",
   "metadata": {},
   "outputs": [
    {
     "data": {
      "text/plain": [
       "(tensor(1.1616, device='cuda:0'), tensor(0.2908, device='cuda:0'))"
      ]
     },
     "execution_count": 77,
     "metadata": {},
     "output_type": "execute_result"
    }
   ],
   "source": [
    "torch.max(tensor3),torch.min(tensor3)"
   ]
  },
  {
   "cell_type": "code",
   "execution_count": 78,
   "id": "59777d46",
   "metadata": {},
   "outputs": [
    {
     "data": {
      "text/plain": [
       "(tensor(2, device='cuda:0'), tensor(1, device='cuda:0'))"
      ]
     },
     "execution_count": 78,
     "metadata": {},
     "output_type": "execute_result"
    }
   ],
   "source": [
    "torch.argmax(tensor3),torch.argmin(tensor3)"
   ]
  },
  {
   "cell_type": "markdown",
   "id": "4dce3a22",
   "metadata": {},
   "source": [
    "10. Make a random tensor with shape (1, 1, 1, 10) and then create a new tensor with all the 1 dimensions removed to be left with a tensor of shape (10). Set the seed to 7 when you create it and print out the first tensor and it's shape as well as the second tensor and it's shape."
   ]
  },
  {
   "cell_type": "code",
   "execution_count": 84,
   "id": "72ab6cee",
   "metadata": {},
   "outputs": [
    {
     "data": {
      "text/plain": [
       "(tensor([[[[0.5349, 0.1988, 0.6592, 0.6569, 0.2328, 0.4251, 0.2071, 0.6297,\n",
       "            0.3653, 0.8513]]]]),\n",
       " torch.Size([1, 1, 1, 10]),\n",
       " tensor([0.5349, 0.1988, 0.6592, 0.6569, 0.2328, 0.4251, 0.2071, 0.6297, 0.3653,\n",
       "         0.8513]),\n",
       " torch.Size([10]))"
      ]
     },
     "execution_count": 84,
     "metadata": {},
     "output_type": "execute_result"
    }
   ],
   "source": [
    "torch.manual_seed(7)\n",
    "tensor4 = torch.rand([1,1,1,10])\n",
    "tensor5 = torch.squeeze(tensor4)\n",
    "tensor4,tensor4.shape,tensor5,tensor5.shape"
   ]
  },
  {
   "cell_type": "code",
   "execution_count": null,
   "id": "18db366b",
   "metadata": {},
   "outputs": [],
   "source": []
  }
 ],
 "metadata": {
  "kernelspec": {
   "display_name": "Python 3",
   "language": "python",
   "name": "python3"
  },
  "language_info": {
   "codemirror_mode": {
    "name": "ipython",
    "version": 3
   },
   "file_extension": ".py",
   "mimetype": "text/x-python",
   "name": "python",
   "nbconvert_exporter": "python",
   "pygments_lexer": "ipython3",
   "version": "3.12.3"
  }
 },
 "nbformat": 4,
 "nbformat_minor": 5
}
