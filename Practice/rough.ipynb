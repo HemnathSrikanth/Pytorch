{
 "cells": [
  {
   "cell_type": "code",
   "execution_count": 4,
   "id": "c4e49771",
   "metadata": {},
   "outputs": [
    {
     "name": "stdout",
     "output_type": "stream",
     "text": [
      "Epoch 1: w =  2.1920, total error =  17.0568\n",
      "Epoch 2: w =  1.9754, total error =  0.2795\n",
      "Epoch 3: w =  2.0031, total error =  0.0046\n",
      "Epoch 4: w =  1.9996, total error =  0.0001\n",
      "Epoch 5: w =  2.0001, total error =  0.0000\n",
      "Epoch 6: w =  2.0000, total error =  0.0000\n",
      "Epoch 7: w =  2.0000, total error =  0.0000\n",
      "Epoch 8: w =  2.0000, total error =  0.0000\n",
      "Epoch 9: w =  2.0000, total error =  0.0000\n",
      "Epoch 10: w =  2.0000, total error =  0.0000\n"
     ]
    }
   ],
   "source": [
    "#step 1: Data\n",
    "x_values = [1,2,3] #Input values(x)\n",
    "y_values = [2,4,6] #Actual values(y) - relationship is y = 2*x\n",
    "\n",
    "#step 2: Start with guess for w\n",
    "w = 0.5 # Intitial weight\n",
    "learning_rate = 0.1 # How big each step is\n",
    "epochs = 10 # How many times to repeat the learning\n",
    "\n",
    "#step 3: Training loop\n",
    "for epoch in range(epochs):\n",
    "    total_error = 0 # Reset error for each epoch\n",
    "    for x,y_actual in zip(x_values,y_values):\n",
    "        #step 3.1: Make prediction\n",
    "        y_pred = w*x\n",
    "        error = (y_pred-y_actual)**2\n",
    "        total_error += error\n",
    "        #step 3.2: Calculate error\n",
    "        error = (y_pred - y_actual)**2\n",
    "        total_error += error\n",
    "\n",
    "        #step 3.3: Calculate gredient(slope)\n",
    "        gradient = 2 * x * (y_pred - y_actual)\n",
    "\n",
    "        #step 3.4: Update the weight w\n",
    "        w = w - learning_rate * gradient\n",
    "    \n",
    "    #Print progress\n",
    "    print(f\"Epoch {epoch+1}: w = {w: .4f}, total error = {total_error: .4f}\")"
   ]
  },
  {
   "cell_type": "code",
   "execution_count": 2,
   "id": "943d8dea",
   "metadata": {},
   "outputs": [
    {
     "name": "stdout",
     "output_type": "stream",
     "text": [
      "1 2\n",
      "2 4\n",
      "3 6\n"
     ]
    }
   ],
   "source": [
    "x_values = [1,2,3]\n",
    "y_values = [2,4,6]\n",
    "\n",
    "for i,j in zip(x_values,y_values):\n",
    "    print(i,j)"
   ]
  },
  {
   "cell_type": "code",
   "execution_count": 1,
   "id": "087f6964",
   "metadata": {},
   "outputs": [],
   "source": [
    "#input and expected output\n",
    "x = [1,2,3]\n",
    "y = [2,4,6]\n",
    "\n",
    "#weights - random guess\n",
    "w1 = 0.5\n",
    "w2 = 0.5\n",
    "\n",
    "#learning rate\n",
    "lr = 0.01\n",
    "\n",
    "#ReLU and its gradient\n",
    "def relu(z):\n",
    "    return max(0,z)\n",
    "def relu_deriv(z):\n",
    "    return 1 if z > 0 else 0"
   ]
  },
  {
   "cell_type": "code",
   "execution_count": null,
   "id": "a9af066a",
   "metadata": {},
   "outputs": [],
   "source": [
    "for epoch in range(20):\n",
    "    for i in range(len(x)):\n",
    "        #Forward\n",
    "        z1 = x[i] * w1\n",
    "        a1 = relu(z1)\n",
    "        z2 = a1*w1\n",
    "        y_pred = z2\n",
    "\n",
    "        #loss\n",
    "        loss = (y_pred - y[i])**2\n",
    "\n",
    "        #backward\n",
    "        dl_dy = 2*(y_pred - y[i])\n",
    "        dl_dw2 = dl_dy * a1\n",
    "        dl_dw1 = dl_dy * w2 * relu_deriv(z1) * x[i]\n",
    "\n",
    "        #update weights\n",
    "        w1 = w1 - lr * dl_dw1\n",
    "        w2 = w2 - lr * dl_dw1"
   ]
  }
 ],
 "metadata": {
  "kernelspec": {
   "display_name": "Python 3",
   "language": "python",
   "name": "python3"
  },
  "language_info": {
   "codemirror_mode": {
    "name": "ipython",
    "version": 3
   },
   "file_extension": ".py",
   "mimetype": "text/x-python",
   "name": "python",
   "nbconvert_exporter": "python",
   "pygments_lexer": "ipython3",
   "version": "3.12.3"
  }
 },
 "nbformat": 4,
 "nbformat_minor": 5
}
